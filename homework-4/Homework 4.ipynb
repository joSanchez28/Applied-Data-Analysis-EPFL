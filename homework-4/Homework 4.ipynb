{
 "cells": [
  {
   "cell_type": "markdown",
   "metadata": {},
   "source": [
    "## Assignment 4: Obsevational Studies and Applied ML\n",
    "\n",
    "### Deadline\n",
    "November 21st,11:59PM\n",
    "\n",
    "### Important notes\n",
    "\n",
    "Make sure you push on GitHub your notebook with all the cells already evaluated. Don't forget to add a textual description of your thought process, the assumptions you made, and the solution you implemented. Back up any hypotheses and claims with data, since this is an important aspect of the course. Please write all your comments in English, and use meaningful variable names in your code. Your repo should have a single notebook (plus the data files necessary) in the master branch. If there are multiple notebooks present, we will not grade anything.\n",
    "\n",
    "Use this legendary link to create your repository: [link](https://classroom.github.com/g/YXtsr0QK)"
   ]
  },
  {
   "cell_type": "code",
   "execution_count": 1,
   "metadata": {},
   "outputs": [],
   "source": [
    "import pandas as pd\n",
    "import numpy as np\n",
    "import matplotlib.pyplot as plt\n",
    "import seaborn as sns\n",
    "\n",
    "from sklearn.linear_model import LinearRegression, LogisticRegression\n",
    "from sklearn.preprocessing import OneHotEncoder\n",
    "from pandas.plotting import scatter_matrix\n",
    "from sklearn.model_selection import cross_val_predict\n",
    "from sklearn.model_selection import cross_val_score\n",
    "from sklearn.ensemble import RandomForestClassifier\n",
    "from sklearn.metrics import confusion_matrix, accuracy_score, recall_score, precision_score, f1_score\n",
    "\n",
    "import warnings; warnings.simplefilter('ignore')\n",
    "\n",
    "%matplotlib inline"
   ]
  },
  {
   "cell_type": "code",
   "execution_count": 2,
   "metadata": {},
   "outputs": [],
   "source": [
    "data_folder = './data/'"
   ]
  },
  {
   "cell_type": "markdown",
   "metadata": {},
   "source": [
    "## Task 1: Boosting the economy by incentivizing self-employment\n",
    "\n",
    "__Assume the biggest priority of the local government in 2018 is to increase per-capita income. To do so, the officials plan to adopt a strategy for incentivizing self-employment through a series of campaigns, educational programs, and dedicated funds.__\n",
    "\n",
    "__Since it is unethical and impossible in this setting to run a controlled experiment involving citizens (e.g., fire employees and force them to self-employ), the officials have asked you, the data scientist, to establish the effect of self-employment on the economy, relying on observational data.__\n",
    "\n",
    "**A)** __You will be working with the full US 2015 census dataset (acs2015_county_data.csv, available at https://www.kaggle.com/muonneutrino/us-census-demographic-data#acs2015_county_data.csv). Using suitable methods, determine and quantify the dependency between the percentage of self-employed citizens and per capita income across all 3,212 US counties. Do citizens in counties that have a higher percentage of self-employed people earn more per capita?__\n",
    "\n",
    "**B)** __The pilot program will involve all counties within a limited set of three US states. Set A includes Wisconsin, Tennessee, and  Minnesota. Quantify the dependency of per-capita income on self-employment rates across all the counties in set A.__\n",
    "\n",
    "**C)** __In which state within set A is the observed effect of self-employment on per-capita income the strongest?__\n",
    "\n",
    "**D)** __Set B includes New Jersey, Kansas, and Rhode Island. Repeat the analysis from steps B and C above, but now for set B. In which of the two sets A and B (if any) would you recommend incentivizing self-employment? Explain your reasoning.__\n",
    "\n",
    "__Hint: It is useful to add a notion of confidence to your results and explore the data visually. You are allowed to use the SciPy library.__"
   ]
  },
  {
   "cell_type": "markdown",
   "metadata": {},
   "source": [
    "---\n",
    "### 1A\n",
    "__You will be working with the full US 2015 census dataset (acs2015_county_data.csv, available at https://www.kaggle.com/muonneutrino/us-census-demographic-data#acs2015_county_data.csv). Using suitable methods, determine and quantify the dependency between the percentage of self-employed citizens and per capita income across all 3,212 US counties. Do citizens in counties that have a higher percentage of self-employed people earn more per capita?__"
   ]
  },
  {
   "cell_type": "markdown",
   "metadata": {},
   "source": [
    "#### Loading Phase\n",
    "\n",
    "Upon loading we notice that according to the dataset there are 3220 counties in the US while the question mentions 3212 counties and wikipedia (https://en.wikipedia.org/wiki/County_(United_States)) says as of 2018 there are 3124 if we don't count county-equivalents (like Alaska boroughs, Louisiana parishes and some independent cities) and 3242 if we do count them. \n",
    "\n",
    "Further inspection reveals that, while A LOT of states have counties with the same name (such originality US), there are no repeated entries. Since we don't have a basis to determine who is correct or what (or if) we should cut we'll just stick with our data as it seems consistent enough."
   ]
  },
  {
   "cell_type": "code",
   "execution_count": 3,
   "metadata": {
    "scrolled": false
   },
   "outputs": [
    {
     "data": {
      "text/html": [
       "<div>\n",
       "<style scoped>\n",
       "    .dataframe tbody tr th:only-of-type {\n",
       "        vertical-align: middle;\n",
       "    }\n",
       "\n",
       "    .dataframe tbody tr th {\n",
       "        vertical-align: top;\n",
       "    }\n",
       "\n",
       "    .dataframe thead th {\n",
       "        text-align: right;\n",
       "    }\n",
       "</style>\n",
       "<table border=\"1\" class=\"dataframe\">\n",
       "  <thead>\n",
       "    <tr style=\"text-align: right;\">\n",
       "      <th></th>\n",
       "      <th>State</th>\n",
       "      <th>County</th>\n",
       "      <th>TotalPop</th>\n",
       "      <th>Men</th>\n",
       "      <th>Women</th>\n",
       "      <th>Hispanic</th>\n",
       "      <th>White</th>\n",
       "      <th>Black</th>\n",
       "      <th>Native</th>\n",
       "      <th>Asian</th>\n",
       "      <th>...</th>\n",
       "      <th>Walk</th>\n",
       "      <th>OtherTransp</th>\n",
       "      <th>WorkAtHome</th>\n",
       "      <th>MeanCommute</th>\n",
       "      <th>Employed</th>\n",
       "      <th>PrivateWork</th>\n",
       "      <th>PublicWork</th>\n",
       "      <th>SelfEmployed</th>\n",
       "      <th>FamilyWork</th>\n",
       "      <th>Unemployment</th>\n",
       "    </tr>\n",
       "    <tr>\n",
       "      <th>CensusId</th>\n",
       "      <th></th>\n",
       "      <th></th>\n",
       "      <th></th>\n",
       "      <th></th>\n",
       "      <th></th>\n",
       "      <th></th>\n",
       "      <th></th>\n",
       "      <th></th>\n",
       "      <th></th>\n",
       "      <th></th>\n",
       "      <th></th>\n",
       "      <th></th>\n",
       "      <th></th>\n",
       "      <th></th>\n",
       "      <th></th>\n",
       "      <th></th>\n",
       "      <th></th>\n",
       "      <th></th>\n",
       "      <th></th>\n",
       "      <th></th>\n",
       "      <th></th>\n",
       "    </tr>\n",
       "  </thead>\n",
       "  <tbody>\n",
       "    <tr>\n",
       "      <th>1001</th>\n",
       "      <td>Alabama</td>\n",
       "      <td>Autauga</td>\n",
       "      <td>55221</td>\n",
       "      <td>26745</td>\n",
       "      <td>28476</td>\n",
       "      <td>2.6</td>\n",
       "      <td>75.8</td>\n",
       "      <td>18.5</td>\n",
       "      <td>0.4</td>\n",
       "      <td>1.0</td>\n",
       "      <td>...</td>\n",
       "      <td>0.5</td>\n",
       "      <td>1.3</td>\n",
       "      <td>1.8</td>\n",
       "      <td>26.5</td>\n",
       "      <td>23986</td>\n",
       "      <td>73.6</td>\n",
       "      <td>20.9</td>\n",
       "      <td>5.5</td>\n",
       "      <td>0.0</td>\n",
       "      <td>7.6</td>\n",
       "    </tr>\n",
       "    <tr>\n",
       "      <th>1003</th>\n",
       "      <td>Alabama</td>\n",
       "      <td>Baldwin</td>\n",
       "      <td>195121</td>\n",
       "      <td>95314</td>\n",
       "      <td>99807</td>\n",
       "      <td>4.5</td>\n",
       "      <td>83.1</td>\n",
       "      <td>9.5</td>\n",
       "      <td>0.6</td>\n",
       "      <td>0.7</td>\n",
       "      <td>...</td>\n",
       "      <td>1.0</td>\n",
       "      <td>1.4</td>\n",
       "      <td>3.9</td>\n",
       "      <td>26.4</td>\n",
       "      <td>85953</td>\n",
       "      <td>81.5</td>\n",
       "      <td>12.3</td>\n",
       "      <td>5.8</td>\n",
       "      <td>0.4</td>\n",
       "      <td>7.5</td>\n",
       "    </tr>\n",
       "    <tr>\n",
       "      <th>1005</th>\n",
       "      <td>Alabama</td>\n",
       "      <td>Barbour</td>\n",
       "      <td>26932</td>\n",
       "      <td>14497</td>\n",
       "      <td>12435</td>\n",
       "      <td>4.6</td>\n",
       "      <td>46.2</td>\n",
       "      <td>46.7</td>\n",
       "      <td>0.2</td>\n",
       "      <td>0.4</td>\n",
       "      <td>...</td>\n",
       "      <td>1.8</td>\n",
       "      <td>1.5</td>\n",
       "      <td>1.6</td>\n",
       "      <td>24.1</td>\n",
       "      <td>8597</td>\n",
       "      <td>71.8</td>\n",
       "      <td>20.8</td>\n",
       "      <td>7.3</td>\n",
       "      <td>0.1</td>\n",
       "      <td>17.6</td>\n",
       "    </tr>\n",
       "    <tr>\n",
       "      <th>1007</th>\n",
       "      <td>Alabama</td>\n",
       "      <td>Bibb</td>\n",
       "      <td>22604</td>\n",
       "      <td>12073</td>\n",
       "      <td>10531</td>\n",
       "      <td>2.2</td>\n",
       "      <td>74.5</td>\n",
       "      <td>21.4</td>\n",
       "      <td>0.4</td>\n",
       "      <td>0.1</td>\n",
       "      <td>...</td>\n",
       "      <td>0.6</td>\n",
       "      <td>1.5</td>\n",
       "      <td>0.7</td>\n",
       "      <td>28.8</td>\n",
       "      <td>8294</td>\n",
       "      <td>76.8</td>\n",
       "      <td>16.1</td>\n",
       "      <td>6.7</td>\n",
       "      <td>0.4</td>\n",
       "      <td>8.3</td>\n",
       "    </tr>\n",
       "    <tr>\n",
       "      <th>1009</th>\n",
       "      <td>Alabama</td>\n",
       "      <td>Blount</td>\n",
       "      <td>57710</td>\n",
       "      <td>28512</td>\n",
       "      <td>29198</td>\n",
       "      <td>8.6</td>\n",
       "      <td>87.9</td>\n",
       "      <td>1.5</td>\n",
       "      <td>0.3</td>\n",
       "      <td>0.1</td>\n",
       "      <td>...</td>\n",
       "      <td>0.9</td>\n",
       "      <td>0.4</td>\n",
       "      <td>2.3</td>\n",
       "      <td>34.9</td>\n",
       "      <td>22189</td>\n",
       "      <td>82.0</td>\n",
       "      <td>13.5</td>\n",
       "      <td>4.2</td>\n",
       "      <td>0.4</td>\n",
       "      <td>7.7</td>\n",
       "    </tr>\n",
       "  </tbody>\n",
       "</table>\n",
       "<p>5 rows × 36 columns</p>\n",
       "</div>"
      ],
      "text/plain": [
       "            State   County  TotalPop    Men  Women  Hispanic  White  Black  \\\n",
       "CensusId                                                                     \n",
       "1001      Alabama  Autauga     55221  26745  28476       2.6   75.8   18.5   \n",
       "1003      Alabama  Baldwin    195121  95314  99807       4.5   83.1    9.5   \n",
       "1005      Alabama  Barbour     26932  14497  12435       4.6   46.2   46.7   \n",
       "1007      Alabama     Bibb     22604  12073  10531       2.2   74.5   21.4   \n",
       "1009      Alabama   Blount     57710  28512  29198       8.6   87.9    1.5   \n",
       "\n",
       "          Native  Asian      ...       Walk  OtherTransp  WorkAtHome  \\\n",
       "CensusId                     ...                                       \n",
       "1001         0.4    1.0      ...        0.5          1.3         1.8   \n",
       "1003         0.6    0.7      ...        1.0          1.4         3.9   \n",
       "1005         0.2    0.4      ...        1.8          1.5         1.6   \n",
       "1007         0.4    0.1      ...        0.6          1.5         0.7   \n",
       "1009         0.3    0.1      ...        0.9          0.4         2.3   \n",
       "\n",
       "          MeanCommute  Employed  PrivateWork  PublicWork  SelfEmployed  \\\n",
       "CensusId                                                                 \n",
       "1001             26.5     23986         73.6        20.9           5.5   \n",
       "1003             26.4     85953         81.5        12.3           5.8   \n",
       "1005             24.1      8597         71.8        20.8           7.3   \n",
       "1007             28.8      8294         76.8        16.1           6.7   \n",
       "1009             34.9     22189         82.0        13.5           4.2   \n",
       "\n",
       "          FamilyWork  Unemployment  \n",
       "CensusId                            \n",
       "1001             0.0           7.6  \n",
       "1003             0.4           7.5  \n",
       "1005             0.1          17.6  \n",
       "1007             0.4           8.3  \n",
       "1009             0.4           7.7  \n",
       "\n",
       "[5 rows x 36 columns]"
      ]
     },
     "execution_count": 3,
     "metadata": {},
     "output_type": "execute_result"
    }
   ],
   "source": [
    "county_data=pd.read_csv(data_folder + 'acs2015_county_data.csv').set_index(\"CensusId\")\n",
    "county_data.head()"
   ]
  },
  {
   "cell_type": "markdown",
   "metadata": {},
   "source": [
    "As we can see, we have lots of features, but throughout this task we will only work with ```State```, ```County```, ```IncomePerCap``` and ```SelfEmployed```"
   ]
  },
  {
   "cell_type": "markdown",
   "metadata": {},
   "source": [
    "#### Cleaning Phase\n",
    "\n",
    "Now we do some consistency checks. The data seems perfectly fine as is, so we won't need to do cleaning (remember we only care about a few of the columns)"
   ]
  },
  {
   "cell_type": "code",
   "execution_count": 4,
   "metadata": {},
   "outputs": [
    {
     "name": "stdout",
     "output_type": "stream",
     "text": [
      "State, County, TotalPop, Men, Women, Hispanic, White, Black, Native, Asian, Pacific, Citizen, Income, IncomeErr, IncomePerCap, IncomePerCapErr, Poverty, ChildPoverty, Professional, Service, Office, Construction, Production, Drive, Carpool, Transit, Walk, OtherTransp, WorkAtHome, MeanCommute, Employed, PrivateWork, PublicWork, SelfEmployed, FamilyWork, Unemployment\n"
     ]
    }
   ],
   "source": [
    "# A list of the columns in the dataset\n",
    "print(', '.join(county_data.columns.tolist()))"
   ]
  },
  {
   "cell_type": "code",
   "execution_count": 5,
   "metadata": {},
   "outputs": [
    {
     "name": "stdout",
     "output_type": "stream",
     "text": [
      "Number of NaN values in whole table: 3\n",
      "\n",
      "Columns where theres NaN data: Income, IncomeErr, ChildPoverty\n",
      "\n",
      "Is the index unique: True\n",
      "\n",
      "Number of duplicate counties in our data: 0\n"
     ]
    }
   ],
   "source": [
    "print('Number of NaN values in whole table: ' + str(county_data.isnull().sum().sum()) + '\\n')\n",
    "print('Columns where there''s NaN data: ' + ', '.join(county_data.columns[county_data.isnull().any()].tolist()) + '\\n')\n",
    "print('Is the index unique: ' + str(county_data.index.is_unique) + '\\n')\n",
    "print('Number of duplicate counties in our data: ' + str(county_data[county_data[['State','County']].duplicated()].shape[0]))"
   ]
  },
  {
   "cell_type": "markdown",
   "metadata": {},
   "source": [
    "#### Querying Phase\n",
    "\n",
    "Now we must quantify the dependency between the percentage of self-employed citizens and per capita income across all 3,220 US counties. We can easily compute te correlation matrix between both variables (per capita income and self employment rate)."
   ]
  },
  {
   "cell_type": "code",
   "execution_count": 6,
   "metadata": {},
   "outputs": [
    {
     "data": {
      "text/html": [
       "<div>\n",
       "<style scoped>\n",
       "    .dataframe tbody tr th:only-of-type {\n",
       "        vertical-align: middle;\n",
       "    }\n",
       "\n",
       "    .dataframe tbody tr th {\n",
       "        vertical-align: top;\n",
       "    }\n",
       "\n",
       "    .dataframe thead th {\n",
       "        text-align: right;\n",
       "    }\n",
       "</style>\n",
       "<table border=\"1\" class=\"dataframe\">\n",
       "  <thead>\n",
       "    <tr style=\"text-align: right;\">\n",
       "      <th></th>\n",
       "      <th>IncomePerCap</th>\n",
       "      <th>SelfEmployed</th>\n",
       "    </tr>\n",
       "  </thead>\n",
       "  <tbody>\n",
       "    <tr>\n",
       "      <th>IncomePerCap</th>\n",
       "      <td>1.000000</td>\n",
       "      <td>0.087274</td>\n",
       "    </tr>\n",
       "    <tr>\n",
       "      <th>SelfEmployed</th>\n",
       "      <td>0.087274</td>\n",
       "      <td>1.000000</td>\n",
       "    </tr>\n",
       "  </tbody>\n",
       "</table>\n",
       "</div>"
      ],
      "text/plain": [
       "              IncomePerCap  SelfEmployed\n",
       "IncomePerCap      1.000000      0.087274\n",
       "SelfEmployed      0.087274      1.000000"
      ]
     },
     "execution_count": 6,
     "metadata": {},
     "output_type": "execute_result"
    }
   ],
   "source": [
    "county_data[[\"IncomePerCap\", \"SelfEmployed\"]].corr()"
   ]
  },
  {
   "cell_type": "markdown",
   "metadata": {},
   "source": [
    "In the face of a very low correlation coefficient we can't say that there is a strong linear relation between self-employment rate and income. The following graph shows that same idea:"
   ]
  },
  {
   "cell_type": "code",
   "execution_count": 7,
   "metadata": {
    "scrolled": false
   },
   "outputs": [
    {
     "data": {
      "image/png": "[encoded data removed]",
      "text/plain": [
       "<Figure size 576x576 with 1 Axes>"
      ]
     },
     "metadata": {
      "needs_background": "light"
     },
     "output_type": "display_data"
    }
   ],
   "source": [
    "sns.lmplot(x='SelfEmployed', y='IncomePerCap', data=county_data[[\"IncomePerCap\", \"SelfEmployed\"]], size=8);"
   ]
  },
  {
   "cell_type": "markdown",
   "metadata": {},
   "source": [
    "### 1B\n",
    "__The pilot program will involve all counties within a limited set of three US states. Set A includes Wisconsin, Tennessee, and  Minnesota. Quantify the dependency of per-capita income on self-employment rates across all the counties in set A.__"
   ]
  },
  {
   "cell_type": "markdown",
   "metadata": {},
   "source": [
    "The previous analysis only shows that one cannot claim a strong linear correlation between the two metrics and take sinto consideration all of the counties within the US, which is a big a diverse country. \n",
    "\n",
    "It makes sense that within some states (or counties) the correlation could be higher, making the program worth a try, at least in those states (similarly, knowing in advance which states/counties have a high correlation between the metrics and trying the program only in those could be a way of exagerate/downplay the usefulness of such a program by someone with an agenda...)"
   ]
  },
  {
   "cell_type": "code",
   "execution_count": 8,
   "metadata": {
    "scrolled": true
   },
   "outputs": [
    {
     "data": {
      "text/html": [
       "<div>\n",
       "<style scoped>\n",
       "    .dataframe tbody tr th:only-of-type {\n",
       "        vertical-align: middle;\n",
       "    }\n",
       "\n",
       "    .dataframe tbody tr th {\n",
       "        vertical-align: top;\n",
       "    }\n",
       "\n",
       "    .dataframe thead th {\n",
       "        text-align: right;\n",
       "    }\n",
       "</style>\n",
       "<table border=\"1\" class=\"dataframe\">\n",
       "  <thead>\n",
       "    <tr style=\"text-align: right;\">\n",
       "      <th></th>\n",
       "      <th>State</th>\n",
       "      <th>County</th>\n",
       "      <th>IncomePerCap</th>\n",
       "      <th>SelfEmployed</th>\n",
       "    </tr>\n",
       "    <tr>\n",
       "      <th>CensusId</th>\n",
       "      <th></th>\n",
       "      <th></th>\n",
       "      <th></th>\n",
       "      <th></th>\n",
       "    </tr>\n",
       "  </thead>\n",
       "  <tbody>\n",
       "    <tr>\n",
       "      <th>27001</th>\n",
       "      <td>Minnesota</td>\n",
       "      <td>Aitkin</td>\n",
       "      <td>25591</td>\n",
       "      <td>9.2</td>\n",
       "    </tr>\n",
       "    <tr>\n",
       "      <th>27003</th>\n",
       "      <td>Minnesota</td>\n",
       "      <td>Anoka</td>\n",
       "      <td>31775</td>\n",
       "      <td>4.2</td>\n",
       "    </tr>\n",
       "    <tr>\n",
       "      <th>27005</th>\n",
       "      <td>Minnesota</td>\n",
       "      <td>Becker</td>\n",
       "      <td>26399</td>\n",
       "      <td>9.0</td>\n",
       "    </tr>\n",
       "  </tbody>\n",
       "</table>\n",
       "</div>"
      ],
      "text/plain": [
       "              State  County  IncomePerCap  SelfEmployed\n",
       "CensusId                                               \n",
       "27001     Minnesota  Aitkin         25591           9.2\n",
       "27003     Minnesota   Anoka         31775           4.2\n",
       "27005     Minnesota  Becker         26399           9.0"
      ]
     },
     "execution_count": 8,
     "metadata": {},
     "output_type": "execute_result"
    }
   ],
   "source": [
    "states    = [\"Wisconsin\", \"Tennessee\", \"Minnesota\"]\n",
    "setA_data = county_data.loc[county_data['State'].isin(states)]\n",
    "setA_data = setA_data[[\"State\", \"County\", \"IncomePerCap\", \"SelfEmployed\"]]\n",
    "setA_data.head(3)"
   ]
  },
  {
   "cell_type": "code",
   "execution_count": 9,
   "metadata": {
    "scrolled": true
   },
   "outputs": [
    {
     "data": {
      "text/html": [
       "<div>\n",
       "<style scoped>\n",
       "    .dataframe tbody tr th:only-of-type {\n",
       "        vertical-align: middle;\n",
       "    }\n",
       "\n",
       "    .dataframe tbody tr th {\n",
       "        vertical-align: top;\n",
       "    }\n",
       "\n",
       "    .dataframe thead th {\n",
       "        text-align: right;\n",
       "    }\n",
       "</style>\n",
       "<table border=\"1\" class=\"dataframe\">\n",
       "  <thead>\n",
       "    <tr style=\"text-align: right;\">\n",
       "      <th></th>\n",
       "      <th>IncomePerCap</th>\n",
       "      <th>SelfEmployed</th>\n",
       "    </tr>\n",
       "  </thead>\n",
       "  <tbody>\n",
       "    <tr>\n",
       "      <th>IncomePerCap</th>\n",
       "      <td>1.000000</td>\n",
       "      <td>-0.202294</td>\n",
       "    </tr>\n",
       "    <tr>\n",
       "      <th>SelfEmployed</th>\n",
       "      <td>-0.202294</td>\n",
       "      <td>1.000000</td>\n",
       "    </tr>\n",
       "  </tbody>\n",
       "</table>\n",
       "</div>"
      ],
      "text/plain": [
       "              IncomePerCap  SelfEmployed\n",
       "IncomePerCap      1.000000     -0.202294\n",
       "SelfEmployed     -0.202294      1.000000"
      ]
     },
     "execution_count": 9,
     "metadata": {},
     "output_type": "execute_result"
    }
   ],
   "source": [
    "setA_data[[\"IncomePerCap\", \"SelfEmployed\"]].corr()"
   ]
  },
  {
   "cell_type": "code",
   "execution_count": 10,
   "metadata": {
    "scrolled": false
   },
   "outputs": [
    {
     "data": {
      "image/png": "[encoded data removed]",
      "text/plain": [
       "<Figure size 576x576 with 1 Axes>"
      ]
     },
     "metadata": {
      "needs_background": "light"
     },
     "output_type": "display_data"
    }
   ],
   "source": [
    "sns.lmplot(x='SelfEmployed', y='IncomePerCap', data=setA_data[[\"IncomePerCap\", \"SelfEmployed\"]], size=8);"
   ]
  },
  {
   "cell_type": "markdown",
   "metadata": {},
   "source": [
    "Here, there is a mild correlation of 0.20, and even though the value is much bigger than with the whole US data we still cannot talk about a relation. For the program this is even worse, the correlation is negative, meaning more self-employment is related to less income per capita.\n",
    "\n",
    "It is worth pointing out that the set has no clear extreme outliers (> 3*IQR) skewing the data."
   ]
  },
  {
   "cell_type": "markdown",
   "metadata": {
    "collapsed": true
   },
   "source": [
    "### 1C\n",
    "__In which state within set A is the observed effect of self-employment on per-capita income the strongest?__"
   ]
  },
  {
   "cell_type": "markdown",
   "metadata": {},
   "source": [
    "The effect is the strongest in Wisconsin. Again, note that all of the correlation coefficients are negative."
   ]
  },
  {
   "cell_type": "code",
   "execution_count": 11,
   "metadata": {},
   "outputs": [
    {
     "name": "stdout",
     "output_type": "stream",
     "text": [
      "Correlation in Wisconsin: -0.32905300016378525\n",
      "Correlation in Tennessee: -0.23836048684913153\n",
      "Correlation in Minnesota: -0.25385519216540625\n"
     ]
    }
   ],
   "source": [
    "print('Correlation in Wisconsin: ' + \\\n",
    "      str(setA_data[setA_data[\"State\"]==\"Wisconsin\"][[\"IncomePerCap\", \"SelfEmployed\"]].corr().iloc[0][\"SelfEmployed\"]))\n",
    "\n",
    "print('Correlation in Tennessee: ' + \\\n",
    "      str(setA_data[setA_data[\"State\"]==\"Tennessee\"][[\"IncomePerCap\", \"SelfEmployed\"]].corr().iloc[0][\"SelfEmployed\"]))\n",
    "\n",
    "print('Correlation in Minnesota: ' + \\\n",
    "      str(setA_data[setA_data[\"State\"]==\"Minnesota\"][[\"IncomePerCap\", \"SelfEmployed\"]].corr().iloc[0][\"SelfEmployed\"]))"
   ]
  },
  {
   "cell_type": "markdown",
   "metadata": {},
   "source": [
    "### 1D\n",
    "__Set B includes New Jersey, Kansas, and Rhode Island. Repeat the analysis from steps B and C above, but now for set B. In which of the two sets A and B (if any) would you recommend incentivizing self-employment? Explain your reasoning.__"
   ]
  },
  {
   "cell_type": "markdown",
   "metadata": {},
   "source": [
    "Below we perform the same analysis that we did with set A. The results don't differ much. The correlation coefficient is still negative and not very significant (-0.23).\n",
    "\n",
    "When we calculate the coefficient for each state we get significantly bigger coefficients for New Jersey (0.48) and Rhode Island (0.90), but this is simply due to lack of data, as those states are small and have very few counties in addition to having very low self-employment rates.\n",
    "\n",
    "Without looking at anything else, we would not recommend incentivizing self-employment at all, since it doesn't seem to relate to a better income in any case."
   ]
  },
  {
   "cell_type": "code",
   "execution_count": 12,
   "metadata": {
    "scrolled": true
   },
   "outputs": [
    {
     "data": {
      "text/html": [
       "<div>\n",
       "<style scoped>\n",
       "    .dataframe tbody tr th:only-of-type {\n",
       "        vertical-align: middle;\n",
       "    }\n",
       "\n",
       "    .dataframe tbody tr th {\n",
       "        vertical-align: top;\n",
       "    }\n",
       "\n",
       "    .dataframe thead th {\n",
       "        text-align: right;\n",
       "    }\n",
       "</style>\n",
       "<table border=\"1\" class=\"dataframe\">\n",
       "  <thead>\n",
       "    <tr style=\"text-align: right;\">\n",
       "      <th></th>\n",
       "      <th>State</th>\n",
       "      <th>IncomePerCap</th>\n",
       "      <th>SelfEmployed</th>\n",
       "    </tr>\n",
       "    <tr>\n",
       "      <th>CensusId</th>\n",
       "      <th></th>\n",
       "      <th></th>\n",
       "      <th></th>\n",
       "    </tr>\n",
       "  </thead>\n",
       "  <tbody>\n",
       "    <tr>\n",
       "      <th>20001</th>\n",
       "      <td>Kansas</td>\n",
       "      <td>20671</td>\n",
       "      <td>9.1</td>\n",
       "    </tr>\n",
       "    <tr>\n",
       "      <th>20003</th>\n",
       "      <td>Kansas</td>\n",
       "      <td>21226</td>\n",
       "      <td>18.7</td>\n",
       "    </tr>\n",
       "    <tr>\n",
       "      <th>20005</th>\n",
       "      <td>Kansas</td>\n",
       "      <td>21677</td>\n",
       "      <td>6.0</td>\n",
       "    </tr>\n",
       "  </tbody>\n",
       "</table>\n",
       "</div>"
      ],
      "text/plain": [
       "           State  IncomePerCap  SelfEmployed\n",
       "CensusId                                    \n",
       "20001     Kansas         20671           9.1\n",
       "20003     Kansas         21226          18.7\n",
       "20005     Kansas         21677           6.0"
      ]
     },
     "execution_count": 12,
     "metadata": {},
     "output_type": "execute_result"
    }
   ],
   "source": [
    "states_setB=[\"New Jersey\", \"Kansas\", \"Rhode Island\"]\n",
    "setB_data = county_data.loc[county_data['State'].isin(states_setB)]\n",
    "setB_data = setB_data[[\"State\", \"IncomePerCap\", \"SelfEmployed\"]]\n",
    "setB_data.head(3)"
   ]
  },
  {
   "cell_type": "code",
   "execution_count": 13,
   "metadata": {
    "scrolled": false
   },
   "outputs": [
    {
     "data": {
      "text/html": [
       "<div>\n",
       "<style scoped>\n",
       "    .dataframe tbody tr th:only-of-type {\n",
       "        vertical-align: middle;\n",
       "    }\n",
       "\n",
       "    .dataframe tbody tr th {\n",
       "        vertical-align: top;\n",
       "    }\n",
       "\n",
       "    .dataframe thead th {\n",
       "        text-align: right;\n",
       "    }\n",
       "</style>\n",
       "<table border=\"1\" class=\"dataframe\">\n",
       "  <thead>\n",
       "    <tr style=\"text-align: right;\">\n",
       "      <th></th>\n",
       "      <th>IncomePerCap</th>\n",
       "      <th>SelfEmployed</th>\n",
       "    </tr>\n",
       "  </thead>\n",
       "  <tbody>\n",
       "    <tr>\n",
       "      <th>IncomePerCap</th>\n",
       "      <td>1.000000</td>\n",
       "      <td>-0.232221</td>\n",
       "    </tr>\n",
       "    <tr>\n",
       "      <th>SelfEmployed</th>\n",
       "      <td>-0.232221</td>\n",
       "      <td>1.000000</td>\n",
       "    </tr>\n",
       "  </tbody>\n",
       "</table>\n",
       "</div>"
      ],
      "text/plain": [
       "              IncomePerCap  SelfEmployed\n",
       "IncomePerCap      1.000000     -0.232221\n",
       "SelfEmployed     -0.232221      1.000000"
      ]
     },
     "execution_count": 13,
     "metadata": {},
     "output_type": "execute_result"
    }
   ],
   "source": [
    "setB_data[[\"IncomePerCap\", \"SelfEmployed\"]].corr()"
   ]
  },
  {
   "cell_type": "code",
   "execution_count": 14,
   "metadata": {
    "scrolled": false
   },
   "outputs": [
    {
     "data": {
      "image/png": "[encoded data removed]",
      "text/plain": [
       "<Figure size 432x432 with 1 Axes>"
      ]
     },
     "metadata": {
      "needs_background": "light"
     },
     "output_type": "display_data"
    }
   ],
   "source": [
    "sns.lmplot(x='SelfEmployed', y='IncomePerCap', data=setB_data[[\"IncomePerCap\", \"SelfEmployed\"]], size=6);"
   ]
  },
  {
   "cell_type": "code",
   "execution_count": 15,
   "metadata": {},
   "outputs": [
    {
     "data": {
      "image/png": "[encoded data removed]",
      "text/plain": [
       "<Figure size 360x360 with 1 Axes>"
      ]
     },
     "metadata": {
      "needs_background": "light"
     },
     "output_type": "display_data"
    },
    {
     "data": {
      "image/png": "[encoded data removed]",
      "text/plain": [
       "<Figure size 360x360 with 1 Axes>"
      ]
     },
     "metadata": {
      "needs_background": "light"
     },
     "output_type": "display_data"
    },
    {
     "data": {
      "image/png": "[encoded data removed]",
      "text/plain": [
       "<Figure size 360x360 with 1 Axes>"
      ]
     },
     "metadata": {
      "needs_background": "light"
     },
     "output_type": "display_data"
    }
   ],
   "source": [
    "sns.lmplot(x='SelfEmployed', y='IncomePerCap', data=setB_data[setB_data['State'] == 'New Jersey'][[\"IncomePerCap\", \"SelfEmployed\"]], size=5);\n",
    "sns.lmplot(x='SelfEmployed', y='IncomePerCap', data=setB_data[setB_data['State'] == 'Kansas'][[\"IncomePerCap\", \"SelfEmployed\"]], size=5);\n",
    "sns.lmplot(x='SelfEmployed', y='IncomePerCap', data=setB_data[setB_data['State'] == 'Rhode Island'][[\"IncomePerCap\", \"SelfEmployed\"]], size=5);"
   ]
  },
  {
   "cell_type": "code",
   "execution_count": 16,
   "metadata": {},
   "outputs": [
    {
     "name": "stdout",
     "output_type": "stream",
     "text": [
      "0.4804478471336282\n",
      "0.2581029971443692\n",
      "0.9021788382149803\n"
     ]
    }
   ],
   "source": [
    "print(setB_data[setB_data[\"State\"]==\"New Jersey\"][[\"IncomePerCap\", \"SelfEmployed\"]].corr().iloc[0][\"SelfEmployed\"])\n",
    "print(setB_data[setB_data[\"State\"]==\"Kansas\"][[\"IncomePerCap\", \"SelfEmployed\"]].corr().iloc[0][\"SelfEmployed\"])\n",
    "print(setB_data[setB_data[\"State\"]==\"Rhode Island\"][[\"IncomePerCap\", \"SelfEmployed\"]].corr().iloc[0][\"SelfEmployed\"])"
   ]
  },
  {
   "cell_type": "markdown",
   "metadata": {},
   "source": [
    "----"
   ]
  },
  {
   "cell_type": "markdown",
   "metadata": {
    "collapsed": true
   },
   "source": [
    "## Task 2: All you need is love… And a dog!\n",
    "\n",
    "__Here we are going to build a classifier to predict whether an animal from an animal shelter will be adopted or not (aac_intakes_outcomes.csv, available at: https://www.kaggle.com/aaronschlegel/austin-animal-center-shelter-intakes-and-outcomes/version/1#aac_intakes_outcomes.csv). You will be working with the following features:__\n",
    "\n",
    "1. __*animal_type:* Type of animal. May be one of 'cat', 'dog', 'bird', etc.__\n",
    "\n",
    "2. __*intake_year:* Year of intake__\n",
    "3. __*intake_condition:* The intake condition of the animal. Can be one of 'normal', 'injured', 'sick', etc.__\n",
    "4. __*intake_number:* The intake number denoting the number of occurrences the animal has been brought into the shelter. Values higher than 1 indicate the animal has been taken into the shelter on more than one occasion.__\n",
    "5. __*intake_type:* The type of intake, for example, 'stray', 'owner surrender', etc.__\n",
    "6. __*sex_upon_intake:* The gender of the animal and if it has been spayed or neutered at the time of intake__\n",
    "7. __*age_upon\\_intake_(years):* The age of the animal upon intake represented in years__\n",
    "8. __*time_in_shelter_days:* Numeric value denoting the number of days the animal remained at the shelter from intake to outcome.__\n",
    "9. __*sex_upon_outcome:* The gender of the animal and if it has been spayed or neutered at time of outcome__\n",
    "10. __*age_upon\\_outcome_(years):* The age of the animal upon outcome represented in years__\n",
    "11. __*outcome_type:* The outcome type. Can be one of ‘adopted’, ‘transferred’, etc.__\n",
    "\n",
    "**A)** __Load the dataset and convert categorical features to a suitable numerical representation (use dummy-variable encoding). Split the data into a training set (80%) and a test set (20%). Pair each feature vector with the corresponding label, i.e., whether the outcome_type is adoption or not. Standardize the values of each feature in the data to have mean 0 and variance 1. The use of external libraries is not permitted in part A, except for numpy and pandas.__\n",
    "\n",
    "**B)** __Train a logistic regression classifier on your training set. Logistic regression returns probabilities as predictions, so in order to arrive at a binary prediction, you need to put a threshold on the predicted probabilities. For the decision threshold of 0.5, present the performance of your classifier on the test set by displaying the confusion matrix. Based on the confusion matrix, manually calculate accuracy, precision, recall, and F1-score with respect to the positive and the negative class. Vary the value of the threshold in the range from 0 to 1 and visualize the value of accuracy, precision, recall, and F1-score (with respect to both classes) as a function of the threshold. The shelter has a limited capacity and has no other option but to put to sleep animals with a low probability of adoption. What metric (precision, recall, accuracy, or F1-score) and with respect to what class is the most relevant when choosing the threshold in this scenario, and why? Explain your reasoning.__\n",
    "\n",
    "**C)** __Reduce the number of features by selecting the subset of the k best features. Use greedy backward selection to iteratively remove features. Evaluate performance and visualize the result using 5-fold cross-validation on the training set as a function of k, where k = 1, 5, 10, 15, 20, 25, 30. Choose the optimal k and justify your choice. Interpret the top-k features and their impact on the probability of adoption.__\n",
    "\n",
    "**D)** __Train a random forest. Use 5-fold cross-validation on the training set to fine-tune the parameters of the classifier using a grid search on the number of estimators \"n_estimators\" and the max depth of the trees \"max_depth\". For the chosen parameters, estimate the performance of your classifier on the test set by presenting the confusion matrix, accuracy, precision, recall, and F1-score with respect to both classes and compare the performance with the performance of the logistic regression. Interpret the results.__\n",
    "\n",
    "__You are allowed to use the scikit-learn library to implement your classifiers.__"
   ]
  },
  {
   "cell_type": "markdown",
   "metadata": {
    "collapsed": true
   },
   "source": [
    "---\n",
    "### 2A\n",
    "\n",
    "__Load the dataset and convert categorical features to a suitable numerical representation (use dummy-variable encoding). Split the data into a training set (80%) and a test set (20%). Pair each feature vector with the corresponding label, i.e., whether the outcome_type is adoption or not. Standardize the values of each feature in the data to have mean 0 and variance 1. The use of external libraries is not permitted in part A, except for numpy and pandas.__"
   ]
  },
  {
   "cell_type": "markdown",
   "metadata": {},
   "source": [
    "#### Loading Phase\n",
    "\n",
    "Let us first load the dataset with the approriate features (columns) and print the head and the tail of the dataframe"
   ]
  },
  {
   "cell_type": "code",
   "execution_count": 17,
   "metadata": {},
   "outputs": [],
   "source": [
    "features = ['animal_type','intake_year','intake_condition','intake_number','intake_type','sex_upon_intake', \\\n",
    "            'age_upon_intake_(years)','time_in_shelter_days','sex_upon_outcome','age_upon_outcome_(years)', \\\n",
    "            'outcome_type']\n",
    "\n",
    "df = pd.read_csv(data_folder + 'aac_intakes_outcomes.csv', usecols=features)"
   ]
  },
  {
   "cell_type": "code",
   "execution_count": 18,
   "metadata": {},
   "outputs": [
    {
     "data": {
      "text/html": [
       "<div>\n",
       "<style scoped>\n",
       "    .dataframe tbody tr th:only-of-type {\n",
       "        vertical-align: middle;\n",
       "    }\n",
       "\n",
       "    .dataframe tbody tr th {\n",
       "        vertical-align: top;\n",
       "    }\n",
       "\n",
       "    .dataframe thead th {\n",
       "        text-align: right;\n",
       "    }\n",
       "</style>\n",
       "<table border=\"1\" class=\"dataframe\">\n",
       "  <thead>\n",
       "    <tr style=\"text-align: right;\">\n",
       "      <th></th>\n",
       "      <th>outcome_type</th>\n",
       "      <th>sex_upon_outcome</th>\n",
       "      <th>age_upon_outcome_(years)</th>\n",
       "      <th>animal_type</th>\n",
       "      <th>intake_condition</th>\n",
       "      <th>intake_type</th>\n",
       "      <th>sex_upon_intake</th>\n",
       "      <th>age_upon_intake_(years)</th>\n",
       "      <th>intake_year</th>\n",
       "      <th>intake_number</th>\n",
       "      <th>time_in_shelter_days</th>\n",
       "    </tr>\n",
       "  </thead>\n",
       "  <tbody>\n",
       "    <tr>\n",
       "      <th>0</th>\n",
       "      <td>Return to Owner</td>\n",
       "      <td>Neutered Male</td>\n",
       "      <td>10.0</td>\n",
       "      <td>Dog</td>\n",
       "      <td>Normal</td>\n",
       "      <td>Stray</td>\n",
       "      <td>Neutered Male</td>\n",
       "      <td>10.0</td>\n",
       "      <td>2017</td>\n",
       "      <td>1.0</td>\n",
       "      <td>0.588194</td>\n",
       "    </tr>\n",
       "    <tr>\n",
       "      <th>1</th>\n",
       "      <td>Return to Owner</td>\n",
       "      <td>Neutered Male</td>\n",
       "      <td>7.0</td>\n",
       "      <td>Dog</td>\n",
       "      <td>Normal</td>\n",
       "      <td>Public Assist</td>\n",
       "      <td>Neutered Male</td>\n",
       "      <td>7.0</td>\n",
       "      <td>2014</td>\n",
       "      <td>2.0</td>\n",
       "      <td>1.259722</td>\n",
       "    </tr>\n",
       "    <tr>\n",
       "      <th>2</th>\n",
       "      <td>Return to Owner</td>\n",
       "      <td>Neutered Male</td>\n",
       "      <td>6.0</td>\n",
       "      <td>Dog</td>\n",
       "      <td>Normal</td>\n",
       "      <td>Public Assist</td>\n",
       "      <td>Neutered Male</td>\n",
       "      <td>6.0</td>\n",
       "      <td>2014</td>\n",
       "      <td>3.0</td>\n",
       "      <td>1.113889</td>\n",
       "    </tr>\n",
       "  </tbody>\n",
       "</table>\n",
       "</div>"
      ],
      "text/plain": [
       "      outcome_type sex_upon_outcome  age_upon_outcome_(years) animal_type  \\\n",
       "0  Return to Owner    Neutered Male                      10.0         Dog   \n",
       "1  Return to Owner    Neutered Male                       7.0         Dog   \n",
       "2  Return to Owner    Neutered Male                       6.0         Dog   \n",
       "\n",
       "  intake_condition    intake_type sex_upon_intake  age_upon_intake_(years)  \\\n",
       "0           Normal          Stray   Neutered Male                     10.0   \n",
       "1           Normal  Public Assist   Neutered Male                      7.0   \n",
       "2           Normal  Public Assist   Neutered Male                      6.0   \n",
       "\n",
       "   intake_year  intake_number  time_in_shelter_days  \n",
       "0         2017            1.0              0.588194  \n",
       "1         2014            2.0              1.259722  \n",
       "2         2014            3.0              1.113889  "
      ]
     },
     "execution_count": 18,
     "metadata": {},
     "output_type": "execute_result"
    }
   ],
   "source": [
    "df.head(3)"
   ]
  },
  {
   "cell_type": "markdown",
   "metadata": {},
   "source": [
    "#### Cleaning Phase\n",
    "\n",
    "From the dataframe we can see that there are 5 catgorical features (excluding outcome type):\n",
    "1. __*animal_type:*__ Type of animal. May be one of 'cat', 'dog', 'bird', etc.\n",
    "2. __*intake_condition:*__ The intake condition of the animal. Can be one of 'normal', 'injured', 'sick', etc.\n",
    "3. __*intake_type:*__ The type of intake, for example, 'stray', 'owner surrender', etc.\n",
    "4. __*sex_upon_intake:*__ The gender of the animal and if it has been spayed or neutered at the time of intake\n",
    "5. __*sex_upon_outcome:*__ The gender of the animal and if it has been spayed or neutered at time of outcome"
   ]
  },
  {
   "cell_type": "markdown",
   "metadata": {},
   "source": [
    "We can confirm this by checking the type of data for each feature:"
   ]
  },
  {
   "cell_type": "code",
   "execution_count": 19,
   "metadata": {},
   "outputs": [
    {
     "data": {
      "text/plain": [
       "outcome_type                 object\n",
       "sex_upon_outcome             object\n",
       "age_upon_outcome_(years)    float64\n",
       "animal_type                  object\n",
       "intake_condition             object\n",
       "intake_type                  object\n",
       "sex_upon_intake              object\n",
       "age_upon_intake_(years)     float64\n",
       "intake_year                   int64\n",
       "intake_number               float64\n",
       "time_in_shelter_days        float64\n",
       "dtype: object"
      ]
     },
     "execution_count": 19,
     "metadata": {},
     "output_type": "execute_result"
    }
   ],
   "source": [
    "df.dtypes"
   ]
  },
  {
   "cell_type": "markdown",
   "metadata": {},
   "source": [
    "As we can see the five features mentionned above (excluding outcome_type) are the only categorical features (type object).\n",
    "\n",
    "Let's inspect these features closely"
   ]
  },
  {
   "cell_type": "code",
   "execution_count": 20,
   "metadata": {},
   "outputs": [
    {
     "name": "stdout",
     "output_type": "stream",
     "text": [
      "animal_type:\n",
      "Dog      45366\n",
      "Cat      29539\n",
      "Other     4428\n",
      "Bird       339\n",
      "Name: animal_type, dtype: int64\n",
      "intake_year:\n",
      "2015    18699\n",
      "2014    18645\n",
      "2016    17632\n",
      "2017    17440\n",
      "2013     4178\n",
      "2018     3078\n",
      "Name: intake_year, dtype: int64\n",
      "intake_condition:\n",
      "Normal      70056\n",
      "Injured      3997\n",
      "Sick         3099\n",
      "Nursing      1915\n",
      "Aged          319\n",
      "Other         147\n",
      "Feral          92\n",
      "Pregnant       47\n",
      "Name: intake_condition, dtype: int64\n",
      "intake_number:\n",
      "1.0     71993\n",
      "2.0      6052\n",
      "3.0      1152\n",
      "4.0       302\n",
      "5.0       101\n",
      "6.0        39\n",
      "7.0        15\n",
      "8.0         7\n",
      "9.0         3\n",
      "11.0        3\n",
      "10.0        3\n",
      "13.0        1\n",
      "12.0        1\n",
      "Name: intake_number, dtype: int64\n",
      "intake_type:\n",
      "Stray                 55935\n",
      "Owner Surrender       15028\n",
      "Public Assist          4994\n",
      "Wildlife               3464\n",
      "Euthanasia Request      251\n",
      "Name: intake_type, dtype: int64\n",
      "sex_upon_intake:\n",
      "Intact Male      25317\n",
      "Intact Female    23704\n",
      "Neutered Male    12708\n",
      "Spayed Female    11153\n",
      "Unknown           6789\n",
      "Name: sex_upon_intake, dtype: int64\n",
      "age_upon_intake_(years):\n",
      "1.000000     14580\n",
      "2.000000     11529\n",
      "0.082192      7458\n",
      "3.000000      5206\n",
      "0.164384      4023\n",
      "4.000000      3071\n",
      "0.076712      2819\n",
      "5.000000      2736\n",
      "0.057534      2276\n",
      "0.328767      2047\n",
      "0.410959      2005\n",
      "0.246575      1936\n",
      "6.000000      1848\n",
      "0.038356      1596\n",
      "7.000000      1574\n",
      "0.493151      1538\n",
      "8.000000      1521\n",
      "0.019178      1194\n",
      "0.739726      1191\n",
      "10.000000     1153\n",
      "0.575342      1151\n",
      "0.657534       897\n",
      "9.000000       865\n",
      "0.821918       714\n",
      "12.000000      591\n",
      "0.904110       524\n",
      "0.000000       450\n",
      "11.000000      449\n",
      "13.000000      379\n",
      "0.008219       347\n",
      "0.002740       345\n",
      "0.005479       271\n",
      "14.000000      249\n",
      "15.000000      214\n",
      "0.095890       201\n",
      "0.016438       190\n",
      "0.010959       186\n",
      "0.013699       125\n",
      "16.000000      106\n",
      "17.000000       59\n",
      "18.000000       27\n",
      "20.000000       13\n",
      "19.000000       13\n",
      "22.000000        4\n",
      "25.000000        1\n",
      "Name: age_upon_intake_(years), dtype: int64\n",
      "time_in_shelter_days:\n",
      "0.011806      77\n",
      "0.004167      77\n",
      "0.009722      77\n",
      "0.008333      77\n",
      "0.007639      77\n",
      "0.009028      76\n",
      "0.017361      75\n",
      "0.014583      75\n",
      "0.005556      74\n",
      "0.013194      72\n",
      "0.010417      70\n",
      "0.006944      70\n",
      "0.003472      70\n",
      "0.031250      68\n",
      "0.020139      68\n",
      "0.013889      67\n",
      "0.012500      67\n",
      "0.015972      67\n",
      "0.026389      66\n",
      "0.011111      65\n",
      "0.044444      64\n",
      "0.021528      63\n",
      "0.068750      63\n",
      "0.034028      62\n",
      "0.022222      62\n",
      "0.054861      61\n",
      "0.018750      61\n",
      "0.042361      60\n",
      "0.006250      60\n",
      "0.019444      59\n",
      "              ..\n",
      "88.760417      1\n",
      "57.334028      1\n",
      "48.030556      1\n",
      "163.987500     1\n",
      "56.285417      1\n",
      "9.861111       1\n",
      "60.118056      1\n",
      "7.397917       1\n",
      "27.331944      1\n",
      "44.936806      1\n",
      "6.427083       1\n",
      "17.018750      1\n",
      "12.462500      1\n",
      "36.145139      1\n",
      "76.868750      1\n",
      "14.727778      1\n",
      "22.586111      1\n",
      "15.343750      1\n",
      "5.634722       1\n",
      "16.344444      1\n",
      "3.468750       1\n",
      "26.923611      1\n",
      "43.103472      1\n",
      "208.047917     1\n",
      "39.140972      1\n",
      "29.422917      1\n",
      "31.295833      1\n",
      "51.896528      1\n",
      "17.077083      1\n",
      "11.523611      1\n",
      "Name: time_in_shelter_days, Length: 29319, dtype: int64\n",
      "sex_upon_outcome:\n",
      "Neutered Male    28293\n",
      "Spayed Female    25549\n",
      "Intact Male       9732\n",
      "Intact Female     9308\n",
      "Unknown           6789\n",
      "Name: sex_upon_outcome, dtype: int64\n",
      "age_upon_outcome_(years):\n",
      "1.000000     14750\n",
      "2.000000     11542\n",
      "0.164384      9246\n",
      "3.000000      5277\n",
      "0.246575      3401\n",
      "0.082192      3396\n",
      "4.000000      3044\n",
      "5.000000      2747\n",
      "0.328767      2417\n",
      "0.410959      1955\n",
      "0.493151      1905\n",
      "6.000000      1850\n",
      "8.000000      1588\n",
      "7.000000      1573\n",
      "0.057534      1474\n",
      "0.038356      1340\n",
      "0.821918      1238\n",
      "0.076712      1205\n",
      "0.657534      1201\n",
      "10.000000     1192\n",
      "0.575342       986\n",
      "0.019178       953\n",
      "9.000000       839\n",
      "0.739726       705\n",
      "12.000000      613\n",
      "0.904110       512\n",
      "11.000000      444\n",
      "13.000000      399\n",
      "14.000000      255\n",
      "0.008219       238\n",
      "0.005479       226\n",
      "15.000000      214\n",
      "0.002740       157\n",
      "0.016438       152\n",
      "0.010959       136\n",
      "0.013699       116\n",
      "16.000000      107\n",
      "0.000000        94\n",
      "0.095890        67\n",
      "17.000000       59\n",
      "18.000000       28\n",
      "20.000000       13\n",
      "19.000000       13\n",
      "22.000000        4\n",
      "25.000000        1\n",
      "Name: age_upon_outcome_(years), dtype: int64\n",
      "outcome_type:\n",
      "Adoption           33594\n",
      "Transfer           23799\n",
      "Return to Owner    14791\n",
      "Euthanasia          6244\n",
      "Died                 690\n",
      "Disposal             304\n",
      "Rto-Adopt            179\n",
      "Missing               46\n",
      "Relocate              15\n",
      "Name: outcome_type, dtype: int64\n"
     ]
    }
   ],
   "source": [
    "categorical_features = ['sex_upon_outcome','animal_type','intake_condition','intake_type', \\\n",
    "                        'sex_upon_intake']\n",
    "for feat in features:\n",
    "    print(feat + ':')\n",
    "    print(df[feat].value_counts())"
   ]
  },
  {
   "cell_type": "markdown",
   "metadata": {},
   "source": [
    "Since there are no NaN, There is one last preprocessing task we could do. Since we are interested in adopted or not adopted, we can map the outcome_type to 1 for adopted and 0 for any other category"
   ]
  },
  {
   "cell_type": "code",
   "execution_count": 21,
   "metadata": {},
   "outputs": [],
   "source": [
    "df['outcome_type'] = df['outcome_type'].map({'Adoption':1}).fillna(value=0)"
   ]
  },
  {
   "cell_type": "markdown",
   "metadata": {},
   "source": [
    "As we can see below there are only 1 and 0 reamining for adoption or not adoption respectively."
   ]
  },
  {
   "cell_type": "code",
   "execution_count": 22,
   "metadata": {},
   "outputs": [
    {
     "data": {
      "text/plain": [
       "0.0    46078\n",
       "1.0    33594\n",
       "Name: outcome_type, dtype: int64"
      ]
     },
     "execution_count": 22,
     "metadata": {},
     "output_type": "execute_result"
    }
   ],
   "source": [
    "df['outcome_type'].value_counts()"
   ]
  },
  {
   "cell_type": "markdown",
   "metadata": {},
   "source": [
    "In order to perform dummy variable encoding on the categorical features (outcome_type excluded), we can use the pandas method `pd.get_dummies()`. Also since we need k-1 dummy variables to represent k categories, we can drop the first column for each encoding (`drop_first = True`). We'll store this as a new dataframe `dummy_df`."
   ]
  },
  {
   "cell_type": "code",
   "execution_count": 23,
   "metadata": {
    "scrolled": true
   },
   "outputs": [
    {
     "data": {
      "text/html": [
       "<div>\n",
       "<style scoped>\n",
       "    .dataframe tbody tr th:only-of-type {\n",
       "        vertical-align: middle;\n",
       "    }\n",
       "\n",
       "    .dataframe tbody tr th {\n",
       "        vertical-align: top;\n",
       "    }\n",
       "\n",
       "    .dataframe thead th {\n",
       "        text-align: right;\n",
       "    }\n",
       "</style>\n",
       "<table border=\"1\" class=\"dataframe\">\n",
       "  <thead>\n",
       "    <tr style=\"text-align: right;\">\n",
       "      <th></th>\n",
       "      <th>outcome_type</th>\n",
       "      <th>age_upon_outcome_(years)</th>\n",
       "      <th>age_upon_intake_(years)</th>\n",
       "      <th>intake_year</th>\n",
       "      <th>intake_number</th>\n",
       "      <th>time_in_shelter_days</th>\n",
       "      <th>sex_upon_outcome_Intact Female</th>\n",
       "      <th>sex_upon_outcome_Intact Male</th>\n",
       "      <th>sex_upon_outcome_Neutered Male</th>\n",
       "      <th>sex_upon_outcome_Spayed Female</th>\n",
       "      <th>...</th>\n",
       "      <th>intake_type_Euthanasia Request</th>\n",
       "      <th>intake_type_Owner Surrender</th>\n",
       "      <th>intake_type_Public Assist</th>\n",
       "      <th>intake_type_Stray</th>\n",
       "      <th>intake_type_Wildlife</th>\n",
       "      <th>sex_upon_intake_Intact Female</th>\n",
       "      <th>sex_upon_intake_Intact Male</th>\n",
       "      <th>sex_upon_intake_Neutered Male</th>\n",
       "      <th>sex_upon_intake_Spayed Female</th>\n",
       "      <th>sex_upon_intake_Unknown</th>\n",
       "    </tr>\n",
       "  </thead>\n",
       "  <tbody>\n",
       "    <tr>\n",
       "      <th>0</th>\n",
       "      <td>0.0</td>\n",
       "      <td>10.0</td>\n",
       "      <td>10.0</td>\n",
       "      <td>2017</td>\n",
       "      <td>1.0</td>\n",
       "      <td>0.588194</td>\n",
       "      <td>0</td>\n",
       "      <td>0</td>\n",
       "      <td>1</td>\n",
       "      <td>0</td>\n",
       "      <td>...</td>\n",
       "      <td>0</td>\n",
       "      <td>0</td>\n",
       "      <td>0</td>\n",
       "      <td>1</td>\n",
       "      <td>0</td>\n",
       "      <td>0</td>\n",
       "      <td>0</td>\n",
       "      <td>1</td>\n",
       "      <td>0</td>\n",
       "      <td>0</td>\n",
       "    </tr>\n",
       "    <tr>\n",
       "      <th>1</th>\n",
       "      <td>0.0</td>\n",
       "      <td>7.0</td>\n",
       "      <td>7.0</td>\n",
       "      <td>2014</td>\n",
       "      <td>2.0</td>\n",
       "      <td>1.259722</td>\n",
       "      <td>0</td>\n",
       "      <td>0</td>\n",
       "      <td>1</td>\n",
       "      <td>0</td>\n",
       "      <td>...</td>\n",
       "      <td>0</td>\n",
       "      <td>0</td>\n",
       "      <td>1</td>\n",
       "      <td>0</td>\n",
       "      <td>0</td>\n",
       "      <td>0</td>\n",
       "      <td>0</td>\n",
       "      <td>1</td>\n",
       "      <td>0</td>\n",
       "      <td>0</td>\n",
       "    </tr>\n",
       "    <tr>\n",
       "      <th>2</th>\n",
       "      <td>0.0</td>\n",
       "      <td>6.0</td>\n",
       "      <td>6.0</td>\n",
       "      <td>2014</td>\n",
       "      <td>3.0</td>\n",
       "      <td>1.113889</td>\n",
       "      <td>0</td>\n",
       "      <td>0</td>\n",
       "      <td>1</td>\n",
       "      <td>0</td>\n",
       "      <td>...</td>\n",
       "      <td>0</td>\n",
       "      <td>0</td>\n",
       "      <td>1</td>\n",
       "      <td>0</td>\n",
       "      <td>0</td>\n",
       "      <td>0</td>\n",
       "      <td>0</td>\n",
       "      <td>1</td>\n",
       "      <td>0</td>\n",
       "      <td>0</td>\n",
       "    </tr>\n",
       "  </tbody>\n",
       "</table>\n",
       "<p>3 rows × 33 columns</p>\n",
       "</div>"
      ],
      "text/plain": [
       "   outcome_type  age_upon_outcome_(years)  age_upon_intake_(years)  \\\n",
       "0           0.0                      10.0                     10.0   \n",
       "1           0.0                       7.0                      7.0   \n",
       "2           0.0                       6.0                      6.0   \n",
       "\n",
       "   intake_year  intake_number  time_in_shelter_days  \\\n",
       "0         2017            1.0              0.588194   \n",
       "1         2014            2.0              1.259722   \n",
       "2         2014            3.0              1.113889   \n",
       "\n",
       "   sex_upon_outcome_Intact Female  sex_upon_outcome_Intact Male  \\\n",
       "0                               0                             0   \n",
       "1                               0                             0   \n",
       "2                               0                             0   \n",
       "\n",
       "   sex_upon_outcome_Neutered Male  sex_upon_outcome_Spayed Female  \\\n",
       "0                               1                               0   \n",
       "1                               1                               0   \n",
       "2                               1                               0   \n",
       "\n",
       "            ...             intake_type_Euthanasia Request  \\\n",
       "0           ...                                          0   \n",
       "1           ...                                          0   \n",
       "2           ...                                          0   \n",
       "\n",
       "   intake_type_Owner Surrender  intake_type_Public Assist  intake_type_Stray  \\\n",
       "0                            0                          0                  1   \n",
       "1                            0                          1                  0   \n",
       "2                            0                          1                  0   \n",
       "\n",
       "   intake_type_Wildlife  sex_upon_intake_Intact Female  \\\n",
       "0                     0                              0   \n",
       "1                     0                              0   \n",
       "2                     0                              0   \n",
       "\n",
       "   sex_upon_intake_Intact Male  sex_upon_intake_Neutered Male  \\\n",
       "0                            0                              1   \n",
       "1                            0                              1   \n",
       "2                            0                              1   \n",
       "\n",
       "   sex_upon_intake_Spayed Female  sex_upon_intake_Unknown  \n",
       "0                              0                        0  \n",
       "1                              0                        0  \n",
       "2                              0                        0  \n",
       "\n",
       "[3 rows x 33 columns]"
      ]
     },
     "execution_count": 23,
     "metadata": {},
     "output_type": "execute_result"
    }
   ],
   "source": [
    "dummy_df = pd.get_dummies(df,columns=categorical_features,drop_first=False)\n",
    "dummy_df.head(3)"
   ]
  },
  {
   "cell_type": "markdown",
   "metadata": {},
   "source": [
    "We standardize the features in preparation for training."
   ]
  },
  {
   "cell_type": "code",
   "execution_count": 24,
   "metadata": {},
   "outputs": [],
   "source": [
    "for feat in dummy_df.columns.tolist()[1:]:\n",
    "    mean = dummy_df[feat].mean()\n",
    "    std = dummy_df[feat].std()\n",
    "    dummy_df[feat] = (dummy_df[feat] - mean)/std"
   ]
  },
  {
   "cell_type": "markdown",
   "metadata": {},
   "source": [
    "In order to split the data into the two sets (training and test), we can use the sample method (`pd.sample()`) which  randomly samples from the dataframe according to a given ratio (0.8 for train in this case). The remaining part of the data will be the test set."
   ]
  },
  {
   "cell_type": "code",
   "execution_count": 25,
   "metadata": {},
   "outputs": [],
   "source": [
    "train_df = dummy_df.sample(frac=0.8,replace=False)\n",
    "test_df = dummy_df.drop(train_df.index.tolist(),axis=0)"
   ]
  },
  {
   "cell_type": "code",
   "execution_count": 26,
   "metadata": {},
   "outputs": [
    {
     "data": {
      "text/html": [
       "<div>\n",
       "<style scoped>\n",
       "    .dataframe tbody tr th:only-of-type {\n",
       "        vertical-align: middle;\n",
       "    }\n",
       "\n",
       "    .dataframe tbody tr th {\n",
       "        vertical-align: top;\n",
       "    }\n",
       "\n",
       "    .dataframe thead th {\n",
       "        text-align: right;\n",
       "    }\n",
       "</style>\n",
       "<table border=\"1\" class=\"dataframe\">\n",
       "  <thead>\n",
       "    <tr style=\"text-align: right;\">\n",
       "      <th></th>\n",
       "      <th>outcome_type</th>\n",
       "      <th>age_upon_outcome_(years)</th>\n",
       "      <th>age_upon_intake_(years)</th>\n",
       "      <th>intake_year</th>\n",
       "      <th>intake_number</th>\n",
       "      <th>time_in_shelter_days</th>\n",
       "      <th>sex_upon_outcome_Intact Female</th>\n",
       "      <th>sex_upon_outcome_Intact Male</th>\n",
       "      <th>sex_upon_outcome_Neutered Male</th>\n",
       "      <th>sex_upon_outcome_Spayed Female</th>\n",
       "      <th>...</th>\n",
       "      <th>intake_type_Euthanasia Request</th>\n",
       "      <th>intake_type_Owner Surrender</th>\n",
       "      <th>intake_type_Public Assist</th>\n",
       "      <th>intake_type_Stray</th>\n",
       "      <th>intake_type_Wildlife</th>\n",
       "      <th>sex_upon_intake_Intact Female</th>\n",
       "      <th>sex_upon_intake_Intact Male</th>\n",
       "      <th>sex_upon_intake_Neutered Male</th>\n",
       "      <th>sex_upon_intake_Spayed Female</th>\n",
       "      <th>sex_upon_intake_Unknown</th>\n",
       "    </tr>\n",
       "  </thead>\n",
       "  <tbody>\n",
       "    <tr>\n",
       "      <th>66881</th>\n",
       "      <td>1.0</td>\n",
       "      <td>-0.682123</td>\n",
       "      <td>-0.702022</td>\n",
       "      <td>1.200085</td>\n",
       "      <td>-0.278079</td>\n",
       "      <td>0.937294</td>\n",
       "      <td>-0.363706</td>\n",
       "      <td>-0.373023</td>\n",
       "      <td>1.347568</td>\n",
       "      <td>-0.687058</td>\n",
       "      <td>...</td>\n",
       "      <td>-0.056217</td>\n",
       "      <td>-0.482152</td>\n",
       "      <td>-0.258598</td>\n",
       "      <td>0.651431</td>\n",
       "      <td>-0.213199</td>\n",
       "      <td>-0.650786</td>\n",
       "      <td>1.465247</td>\n",
       "      <td>-0.435627</td>\n",
       "      <td>-0.403448</td>\n",
       "      <td>-0.305202</td>\n",
       "    </tr>\n",
       "    <tr>\n",
       "      <th>68258</th>\n",
       "      <td>0.0</td>\n",
       "      <td>-0.393987</td>\n",
       "      <td>-0.382896</td>\n",
       "      <td>1.200085</td>\n",
       "      <td>-0.278079</td>\n",
       "      <td>-0.300063</td>\n",
       "      <td>-0.363706</td>\n",
       "      <td>-0.373023</td>\n",
       "      <td>-0.742068</td>\n",
       "      <td>1.455463</td>\n",
       "      <td>...</td>\n",
       "      <td>-0.056217</td>\n",
       "      <td>-0.482152</td>\n",
       "      <td>-0.258598</td>\n",
       "      <td>0.651431</td>\n",
       "      <td>-0.213199</td>\n",
       "      <td>1.536584</td>\n",
       "      <td>-0.682470</td>\n",
       "      <td>-0.435627</td>\n",
       "      <td>-0.403448</td>\n",
       "      <td>-0.305202</td>\n",
       "    </tr>\n",
       "    <tr>\n",
       "      <th>79606</th>\n",
       "      <td>0.0</td>\n",
       "      <td>-0.393987</td>\n",
       "      <td>-0.382896</td>\n",
       "      <td>1.967453</td>\n",
       "      <td>-0.278079</td>\n",
       "      <td>-0.400199</td>\n",
       "      <td>-0.363706</td>\n",
       "      <td>-0.373023</td>\n",
       "      <td>-0.742068</td>\n",
       "      <td>-0.687058</td>\n",
       "      <td>...</td>\n",
       "      <td>-0.056217</td>\n",
       "      <td>-0.482152</td>\n",
       "      <td>-0.258598</td>\n",
       "      <td>-1.535063</td>\n",
       "      <td>4.690386</td>\n",
       "      <td>-0.650786</td>\n",
       "      <td>-0.682470</td>\n",
       "      <td>-0.435627</td>\n",
       "      <td>-0.403448</td>\n",
       "      <td>3.276480</td>\n",
       "    </tr>\n",
       "  </tbody>\n",
       "</table>\n",
       "<p>3 rows × 33 columns</p>\n",
       "</div>"
      ],
      "text/plain": [
       "       outcome_type  age_upon_outcome_(years)  age_upon_intake_(years)  \\\n",
       "66881           1.0                 -0.682123                -0.702022   \n",
       "68258           0.0                 -0.393987                -0.382896   \n",
       "79606           0.0                 -0.393987                -0.382896   \n",
       "\n",
       "       intake_year  intake_number  time_in_shelter_days  \\\n",
       "66881     1.200085      -0.278079              0.937294   \n",
       "68258     1.200085      -0.278079             -0.300063   \n",
       "79606     1.967453      -0.278079             -0.400199   \n",
       "\n",
       "       sex_upon_outcome_Intact Female  sex_upon_outcome_Intact Male  \\\n",
       "66881                       -0.363706                     -0.373023   \n",
       "68258                       -0.363706                     -0.373023   \n",
       "79606                       -0.363706                     -0.373023   \n",
       "\n",
       "       sex_upon_outcome_Neutered Male  sex_upon_outcome_Spayed Female  \\\n",
       "66881                        1.347568                       -0.687058   \n",
       "68258                       -0.742068                        1.455463   \n",
       "79606                       -0.742068                       -0.687058   \n",
       "\n",
       "                ...             intake_type_Euthanasia Request  \\\n",
       "66881           ...                                  -0.056217   \n",
       "68258           ...                                  -0.056217   \n",
       "79606           ...                                  -0.056217   \n",
       "\n",
       "       intake_type_Owner Surrender  intake_type_Public Assist  \\\n",
       "66881                    -0.482152                  -0.258598   \n",
       "68258                    -0.482152                  -0.258598   \n",
       "79606                    -0.482152                  -0.258598   \n",
       "\n",
       "       intake_type_Stray  intake_type_Wildlife  sex_upon_intake_Intact Female  \\\n",
       "66881           0.651431             -0.213199                      -0.650786   \n",
       "68258           0.651431             -0.213199                       1.536584   \n",
       "79606          -1.535063              4.690386                      -0.650786   \n",
       "\n",
       "       sex_upon_intake_Intact Male  sex_upon_intake_Neutered Male  \\\n",
       "66881                     1.465247                      -0.435627   \n",
       "68258                    -0.682470                      -0.435627   \n",
       "79606                    -0.682470                      -0.435627   \n",
       "\n",
       "       sex_upon_intake_Spayed Female  sex_upon_intake_Unknown  \n",
       "66881                      -0.403448                -0.305202  \n",
       "68258                      -0.403448                -0.305202  \n",
       "79606                      -0.403448                 3.276480  \n",
       "\n",
       "[3 rows x 33 columns]"
      ]
     },
     "execution_count": 26,
     "metadata": {},
     "output_type": "execute_result"
    }
   ],
   "source": [
    "train_df.head(3)"
   ]
  },
  {
   "cell_type": "code",
   "execution_count": 27,
   "metadata": {},
   "outputs": [
    {
     "data": {
      "text/html": [
       "<div>\n",
       "<style scoped>\n",
       "    .dataframe tbody tr th:only-of-type {\n",
       "        vertical-align: middle;\n",
       "    }\n",
       "\n",
       "    .dataframe tbody tr th {\n",
       "        vertical-align: top;\n",
       "    }\n",
       "\n",
       "    .dataframe thead th {\n",
       "        text-align: right;\n",
       "    }\n",
       "</style>\n",
       "<table border=\"1\" class=\"dataframe\">\n",
       "  <thead>\n",
       "    <tr style=\"text-align: right;\">\n",
       "      <th></th>\n",
       "      <th>outcome_type</th>\n",
       "      <th>age_upon_outcome_(years)</th>\n",
       "      <th>age_upon_intake_(years)</th>\n",
       "      <th>intake_year</th>\n",
       "      <th>intake_number</th>\n",
       "      <th>time_in_shelter_days</th>\n",
       "      <th>sex_upon_outcome_Intact Female</th>\n",
       "      <th>sex_upon_outcome_Intact Male</th>\n",
       "      <th>sex_upon_outcome_Neutered Male</th>\n",
       "      <th>sex_upon_outcome_Spayed Female</th>\n",
       "      <th>...</th>\n",
       "      <th>intake_type_Euthanasia Request</th>\n",
       "      <th>intake_type_Owner Surrender</th>\n",
       "      <th>intake_type_Public Assist</th>\n",
       "      <th>intake_type_Stray</th>\n",
       "      <th>intake_type_Wildlife</th>\n",
       "      <th>sex_upon_intake_Intact Female</th>\n",
       "      <th>sex_upon_intake_Intact Male</th>\n",
       "      <th>sex_upon_intake_Neutered Male</th>\n",
       "      <th>sex_upon_intake_Spayed Female</th>\n",
       "      <th>sex_upon_intake_Unknown</th>\n",
       "    </tr>\n",
       "  </thead>\n",
       "  <tbody>\n",
       "    <tr>\n",
       "      <th>6</th>\n",
       "      <td>0.0</td>\n",
       "      <td>4.433469</td>\n",
       "      <td>4.456078</td>\n",
       "      <td>-1.102017</td>\n",
       "      <td>-0.278079</td>\n",
       "      <td>-0.397766</td>\n",
       "      <td>2.749441</td>\n",
       "      <td>-0.373023</td>\n",
       "      <td>-0.742068</td>\n",
       "      <td>-0.687058</td>\n",
       "      <td>...</td>\n",
       "      <td>-0.056217</td>\n",
       "      <td>-0.482152</td>\n",
       "      <td>-0.258598</td>\n",
       "      <td>0.651431</td>\n",
       "      <td>-0.213199</td>\n",
       "      <td>1.536584</td>\n",
       "      <td>-0.68247</td>\n",
       "      <td>-0.435627</td>\n",
       "      <td>-0.403448</td>\n",
       "      <td>-0.305202</td>\n",
       "    </tr>\n",
       "    <tr>\n",
       "      <th>7</th>\n",
       "      <td>0.0</td>\n",
       "      <td>4.433469</td>\n",
       "      <td>4.456078</td>\n",
       "      <td>-1.102017</td>\n",
       "      <td>-0.278079</td>\n",
       "      <td>-0.396933</td>\n",
       "      <td>-0.363706</td>\n",
       "      <td>-0.373023</td>\n",
       "      <td>1.347568</td>\n",
       "      <td>-0.687058</td>\n",
       "      <td>...</td>\n",
       "      <td>-0.056217</td>\n",
       "      <td>-0.482152</td>\n",
       "      <td>-0.258598</td>\n",
       "      <td>0.651431</td>\n",
       "      <td>-0.213199</td>\n",
       "      <td>-0.650786</td>\n",
       "      <td>-0.68247</td>\n",
       "      <td>2.295511</td>\n",
       "      <td>-0.403448</td>\n",
       "      <td>-0.305202</td>\n",
       "    </tr>\n",
       "    <tr>\n",
       "      <th>12</th>\n",
       "      <td>1.0</td>\n",
       "      <td>4.778288</td>\n",
       "      <td>4.801719</td>\n",
       "      <td>-1.869384</td>\n",
       "      <td>-0.278079</td>\n",
       "      <td>0.791538</td>\n",
       "      <td>-0.363706</td>\n",
       "      <td>-0.373023</td>\n",
       "      <td>1.347568</td>\n",
       "      <td>-0.687058</td>\n",
       "      <td>...</td>\n",
       "      <td>-0.056217</td>\n",
       "      <td>2.074010</td>\n",
       "      <td>-0.258598</td>\n",
       "      <td>-1.535063</td>\n",
       "      <td>-0.213199</td>\n",
       "      <td>-0.650786</td>\n",
       "      <td>-0.68247</td>\n",
       "      <td>2.295511</td>\n",
       "      <td>-0.403448</td>\n",
       "      <td>-0.305202</td>\n",
       "    </tr>\n",
       "  </tbody>\n",
       "</table>\n",
       "<p>3 rows × 33 columns</p>\n",
       "</div>"
      ],
      "text/plain": [
       "    outcome_type  age_upon_outcome_(years)  age_upon_intake_(years)  \\\n",
       "6            0.0                  4.433469                 4.456078   \n",
       "7            0.0                  4.433469                 4.456078   \n",
       "12           1.0                  4.778288                 4.801719   \n",
       "\n",
       "    intake_year  intake_number  time_in_shelter_days  \\\n",
       "6     -1.102017      -0.278079             -0.397766   \n",
       "7     -1.102017      -0.278079             -0.396933   \n",
       "12    -1.869384      -0.278079              0.791538   \n",
       "\n",
       "    sex_upon_outcome_Intact Female  sex_upon_outcome_Intact Male  \\\n",
       "6                         2.749441                     -0.373023   \n",
       "7                        -0.363706                     -0.373023   \n",
       "12                       -0.363706                     -0.373023   \n",
       "\n",
       "    sex_upon_outcome_Neutered Male  sex_upon_outcome_Spayed Female  \\\n",
       "6                        -0.742068                       -0.687058   \n",
       "7                         1.347568                       -0.687058   \n",
       "12                        1.347568                       -0.687058   \n",
       "\n",
       "             ...             intake_type_Euthanasia Request  \\\n",
       "6            ...                                  -0.056217   \n",
       "7            ...                                  -0.056217   \n",
       "12           ...                                  -0.056217   \n",
       "\n",
       "    intake_type_Owner Surrender  intake_type_Public Assist  intake_type_Stray  \\\n",
       "6                     -0.482152                  -0.258598           0.651431   \n",
       "7                     -0.482152                  -0.258598           0.651431   \n",
       "12                     2.074010                  -0.258598          -1.535063   \n",
       "\n",
       "    intake_type_Wildlife  sex_upon_intake_Intact Female  \\\n",
       "6              -0.213199                       1.536584   \n",
       "7              -0.213199                      -0.650786   \n",
       "12             -0.213199                      -0.650786   \n",
       "\n",
       "    sex_upon_intake_Intact Male  sex_upon_intake_Neutered Male  \\\n",
       "6                      -0.68247                      -0.435627   \n",
       "7                      -0.68247                       2.295511   \n",
       "12                     -0.68247                       2.295511   \n",
       "\n",
       "    sex_upon_intake_Spayed Female  sex_upon_intake_Unknown  \n",
       "6                       -0.403448                -0.305202  \n",
       "7                       -0.403448                -0.305202  \n",
       "12                      -0.403448                -0.305202  \n",
       "\n",
       "[3 rows x 33 columns]"
      ]
     },
     "execution_count": 27,
     "metadata": {},
     "output_type": "execute_result"
    }
   ],
   "source": [
    "test_df.head(3)"
   ]
  },
  {
   "cell_type": "markdown",
   "metadata": {},
   "source": [
    "Quick check of the validity of the split by making sure that the size of the train plus the size of the test equals the size of the dummy:"
   ]
  },
  {
   "cell_type": "code",
   "execution_count": 28,
   "metadata": {},
   "outputs": [
    {
     "name": "stdout",
     "output_type": "stream",
     "text": [
      "True\n"
     ]
    }
   ],
   "source": [
    "print(train_df.shape[0] + test_df.shape[0] == dummy_df.shape[0])"
   ]
  },
  {
   "cell_type": "markdown",
   "metadata": {},
   "source": [
    "Double check the mean of the features"
   ]
  },
  {
   "cell_type": "code",
   "execution_count": 29,
   "metadata": {
    "scrolled": true
   },
   "outputs": [
    {
     "data": {
      "text/plain": [
       "age_upon_outcome_(years)          2.951286e-13\n",
       "age_upon_intake_(years)           2.443235e-13\n",
       "intake_year                      -1.842674e-13\n",
       "intake_number                    -4.830955e-14\n",
       "time_in_shelter_days             -7.573476e-16\n",
       "sex_upon_outcome_Intact Female   -1.056339e-14\n",
       "sex_upon_outcome_Intact Male     -1.796153e-15\n",
       "sex_upon_outcome_Neutered Male   -8.527634e-15\n",
       "sex_upon_outcome_Spayed Female   -8.709942e-15\n",
       "sex_upon_outcome_Unknown          3.291075e-14\n",
       "animal_type_Bird                 -7.117165e-15\n",
       "animal_type_Cat                  -2.400798e-14\n",
       "animal_type_Dog                  -3.465862e-14\n",
       "animal_type_Other                 2.993477e-15\n",
       "intake_condition_Aged            -9.982576e-15\n",
       "intake_condition_Feral            2.357509e-15\n",
       "intake_condition_Injured         -1.280683e-15\n",
       "intake_condition_Normal          -1.518089e-14\n",
       "intake_condition_Nursing         -1.136080e-14\n",
       "intake_condition_Other           -8.404619e-16\n",
       "intake_condition_Pregnant         2.779437e-15\n",
       "intake_condition_Sick            -1.203007e-14\n",
       "intake_type_Euthanasia Request    1.833773e-14\n",
       "intake_type_Owner Surrender       7.094532e-15\n",
       "intake_type_Public Assist         1.200633e-14\n",
       "intake_type_Stray                -3.463518e-14\n",
       "intake_type_Wildlife             -1.262794e-14\n",
       "sex_upon_intake_Intact Female    -2.028293e-14\n",
       "sex_upon_intake_Intact Male      -5.236662e-15\n",
       "sex_upon_intake_Neutered Male    -8.153752e-14\n",
       "sex_upon_intake_Spayed Female     6.931913e-14\n",
       "sex_upon_intake_Unknown           3.291075e-14\n",
       "dtype: float64"
      ]
     },
     "execution_count": 29,
     "metadata": {},
     "output_type": "execute_result"
    }
   ],
   "source": [
    "dummy_df.mean()[1:]"
   ]
  },
  {
   "cell_type": "markdown",
   "metadata": {},
   "source": [
    "The means aren't exactly 0 but they are small enough for us to approximate them to 0."
   ]
  },
  {
   "cell_type": "markdown",
   "metadata": {},
   "source": [
    "Now for the standart deviation"
   ]
  },
  {
   "cell_type": "code",
   "execution_count": 30,
   "metadata": {
    "scrolled": true
   },
   "outputs": [
    {
     "data": {
      "text/plain": [
       "age_upon_outcome_(years)          1.0\n",
       "age_upon_intake_(years)           1.0\n",
       "intake_year                       1.0\n",
       "intake_number                     1.0\n",
       "time_in_shelter_days              1.0\n",
       "sex_upon_outcome_Intact Female    1.0\n",
       "sex_upon_outcome_Intact Male      1.0\n",
       "sex_upon_outcome_Neutered Male    1.0\n",
       "sex_upon_outcome_Spayed Female    1.0\n",
       "sex_upon_outcome_Unknown          1.0\n",
       "animal_type_Bird                  1.0\n",
       "animal_type_Cat                   1.0\n",
       "animal_type_Dog                   1.0\n",
       "animal_type_Other                 1.0\n",
       "intake_condition_Aged             1.0\n",
       "intake_condition_Feral            1.0\n",
       "intake_condition_Injured          1.0\n",
       "intake_condition_Normal           1.0\n",
       "intake_condition_Nursing          1.0\n",
       "intake_condition_Other            1.0\n",
       "intake_condition_Pregnant         1.0\n",
       "intake_condition_Sick             1.0\n",
       "intake_type_Euthanasia Request    1.0\n",
       "intake_type_Owner Surrender       1.0\n",
       "intake_type_Public Assist         1.0\n",
       "intake_type_Stray                 1.0\n",
       "intake_type_Wildlife              1.0\n",
       "sex_upon_intake_Intact Female     1.0\n",
       "sex_upon_intake_Intact Male       1.0\n",
       "sex_upon_intake_Neutered Male     1.0\n",
       "sex_upon_intake_Spayed Female     1.0\n",
       "sex_upon_intake_Unknown           1.0\n",
       "dtype: float64"
      ]
     },
     "execution_count": 30,
     "metadata": {},
     "output_type": "execute_result"
    }
   ],
   "source": [
    "dummy_df.std()[1:]"
   ]
  },
  {
   "cell_type": "markdown",
   "metadata": {},
   "source": [
    "Hence our standardized features and our labels are ready to go."
   ]
  },
  {
   "cell_type": "markdown",
   "metadata": {},
   "source": [
    "### 2B\n",
    "__Train a logistic regression classifier on your training set. Logistic regression returns probabilities as predictions, so in order to arrive at a binary prediction, you need to put a threshold on the predicted probabilities. For the decision threshold of 0.5, present the performance of your classifier on the test set by displaying the confusion matrix. Based on the confusion matrix, manually calculate accuracy, precision, recall, and F1-score with respect to the positive and the negative class. Vary the value of the threshold in the range from 0 to 1 and visualize the value of accuracy, precision, recall, and F1-score (with respect to both classes) as a function of the threshold. The shelter has a limited capacity and has no other option but to put to sleep animals with a low probability of adoption. What metric (precision, recall, accuracy, or F1-score) and with respect to what class is the most relevant when choosing the threshold in this scenario, and why? Explain your reasoning.__"
   ]
  },
  {
   "cell_type": "markdown",
   "metadata": {},
   "source": [
    "In order to train our classifier, we first need to get the feature data and the labels from our training set"
   ]
  },
  {
   "cell_type": "code",
   "execution_count": 31,
   "metadata": {},
   "outputs": [],
   "source": [
    "new_features = dummy_df.columns.tolist()[1:]\n",
    "\n",
    "x_train = train_df[new_features]\n",
    "y_train = train_df['outcome_type']"
   ]
  },
  {
   "cell_type": "markdown",
   "metadata": {},
   "source": [
    "Let us now define our classifier"
   ]
  },
  {
   "cell_type": "code",
   "execution_count": 32,
   "metadata": {},
   "outputs": [
    {
     "data": {
      "text/plain": [
       "LogisticRegression(C=1.0, class_weight=None, dual=False, fit_intercept=True,\n",
       "          intercept_scaling=1, max_iter=100, multi_class='warn',\n",
       "          n_jobs=None, penalty='l2', random_state=None, solver='lbfgs',\n",
       "          tol=0.0001, verbose=0, warm_start=False)"
      ]
     },
     "execution_count": 32,
     "metadata": {},
     "output_type": "execute_result"
    }
   ],
   "source": [
    "logistic = LogisticRegression(solver='lbfgs')\n",
    "logistic"
   ]
  },
  {
   "cell_type": "markdown",
   "metadata": {},
   "source": [
    "The classifier can be trained using the `fit()` method"
   ]
  },
  {
   "cell_type": "code",
   "execution_count": 33,
   "metadata": {},
   "outputs": [
    {
     "data": {
      "text/plain": [
       "LogisticRegression(C=1.0, class_weight=None, dual=False, fit_intercept=True,\n",
       "          intercept_scaling=1, max_iter=100, multi_class='warn',\n",
       "          n_jobs=None, penalty='l2', random_state=None, solver='lbfgs',\n",
       "          tol=0.0001, verbose=0, warm_start=False)"
      ]
     },
     "execution_count": 33,
     "metadata": {},
     "output_type": "execute_result"
    }
   ],
   "source": [
    "logistic.fit(x_train,y_train)"
   ]
  },
  {
   "cell_type": "markdown",
   "metadata": {},
   "source": [
    "In order to determine the performance of our classifier, we shall use it to predict the classification of the test set and hence by comparing with the actual class, we will determine accuracy, precision, recall and F1 score, with respect to both clases. In this case we shall set `adopted = 1` and `not adopted = 0`."
   ]
  },
  {
   "cell_type": "code",
   "execution_count": 34,
   "metadata": {},
   "outputs": [
    {
     "data": {
      "text/html": [
       "<div>\n",
       "<style scoped>\n",
       "    .dataframe tbody tr th:only-of-type {\n",
       "        vertical-align: middle;\n",
       "    }\n",
       "\n",
       "    .dataframe tbody tr th {\n",
       "        vertical-align: top;\n",
       "    }\n",
       "\n",
       "    .dataframe thead th {\n",
       "        text-align: right;\n",
       "    }\n",
       "</style>\n",
       "<table border=\"1\" class=\"dataframe\">\n",
       "  <thead>\n",
       "    <tr style=\"text-align: right;\">\n",
       "      <th></th>\n",
       "      <th>Adopted</th>\n",
       "    </tr>\n",
       "  </thead>\n",
       "  <tbody>\n",
       "    <tr>\n",
       "      <th>0</th>\n",
       "      <td>0</td>\n",
       "    </tr>\n",
       "    <tr>\n",
       "      <th>1</th>\n",
       "      <td>0</td>\n",
       "    </tr>\n",
       "    <tr>\n",
       "      <th>2</th>\n",
       "      <td>0</td>\n",
       "    </tr>\n",
       "  </tbody>\n",
       "</table>\n",
       "</div>"
      ],
      "text/plain": [
       "   Adopted\n",
       "0        0\n",
       "1        0\n",
       "2        0"
      ]
     },
     "execution_count": 34,
     "metadata": {},
     "output_type": "execute_result"
    }
   ],
   "source": [
    "#threshold used to determine the labels based on the prediction probabilites\n",
    "threshold = 0.5\n",
    "\n",
    "#predict the labels using the classifier and convert the results into a pandas dataframe.\n",
    "pred = pd.DataFrame(logistic.predict_proba(test_df[new_features])).iloc[:,0].apply(lambda x: 0 if x>threshold else 1) \\\n",
    "                    .to_frame()\n",
    "pred.columns = ['Adopted']\n",
    "pred.head(3)"
   ]
  },
  {
   "cell_type": "markdown",
   "metadata": {},
   "source": [
    "We shall now put the predicted results with the actual results in the same dataframe."
   ]
  },
  {
   "cell_type": "code",
   "execution_count": 35,
   "metadata": {},
   "outputs": [
    {
     "data": {
      "text/html": [
       "<div>\n",
       "<style scoped>\n",
       "    .dataframe tbody tr th:only-of-type {\n",
       "        vertical-align: middle;\n",
       "    }\n",
       "\n",
       "    .dataframe tbody tr th {\n",
       "        vertical-align: top;\n",
       "    }\n",
       "\n",
       "    .dataframe thead th {\n",
       "        text-align: right;\n",
       "    }\n",
       "</style>\n",
       "<table border=\"1\" class=\"dataframe\">\n",
       "  <thead>\n",
       "    <tr style=\"text-align: right;\">\n",
       "      <th></th>\n",
       "      <th>class</th>\n",
       "      <th>classification</th>\n",
       "    </tr>\n",
       "  </thead>\n",
       "  <tbody>\n",
       "    <tr>\n",
       "      <th>0</th>\n",
       "      <td>0.0</td>\n",
       "      <td>0</td>\n",
       "    </tr>\n",
       "    <tr>\n",
       "      <th>1</th>\n",
       "      <td>0.0</td>\n",
       "      <td>0</td>\n",
       "    </tr>\n",
       "    <tr>\n",
       "      <th>2</th>\n",
       "      <td>1.0</td>\n",
       "      <td>0</td>\n",
       "    </tr>\n",
       "    <tr>\n",
       "      <th>3</th>\n",
       "      <td>1.0</td>\n",
       "      <td>0</td>\n",
       "    </tr>\n",
       "    <tr>\n",
       "      <th>4</th>\n",
       "      <td>0.0</td>\n",
       "      <td>0</td>\n",
       "    </tr>\n",
       "  </tbody>\n",
       "</table>\n",
       "</div>"
      ],
      "text/plain": [
       "   class  classification\n",
       "0    0.0               0\n",
       "1    0.0               0\n",
       "2    1.0               0\n",
       "3    1.0               0\n",
       "4    0.0               0"
      ]
     },
     "execution_count": 35,
     "metadata": {},
     "output_type": "execute_result"
    }
   ],
   "source": [
    "perf_df = pd.concat([test_df['outcome_type'].reset_index(),pred],axis=1)[['outcome_type','Adopted']]\n",
    "perf_df.columns = ['class','classification']\n",
    "perf_df.head()"
   ]
  },
  {
   "cell_type": "markdown",
   "metadata": {},
   "source": [
    "We can now start to analyze the data and determine the True positive (TP), True negative (TN), False positive (FP) and False negative (FN). They are defined as such:\n",
    "1. TP = adopted and prediction adopted\n",
    "2. TN = not adopted and prediction not adopted\n",
    "3. FP = not adopted and prediction adopted\n",
    "4. FN = adopted and prediction not adopted"
   ]
  },
  {
   "cell_type": "code",
   "execution_count": 36,
   "metadata": {},
   "outputs": [],
   "source": [
    "#Get the appropriate subdataframes from perf_df for merging later\n",
    "class_adopted = perf_df[perf_df['class'] == 1.0][['class']]\n",
    "class_not_adopted = perf_df[perf_df['class'] == 0.0][['class']]\n",
    "classification_adopted = perf_df[perf_df['classification'] == 1.0][['classification']]\n",
    "classification_not_adopted = perf_df[perf_df['classification'] == 0.0][['classification']]"
   ]
  },
  {
   "cell_type": "markdown",
   "metadata": {},
   "source": [
    "One way to find out the four values above, we can merge the above dataframe with the pandas `merge()` method. One advantage of this method is that the merge is full outer join and hence we can just take the count."
   ]
  },
  {
   "cell_type": "code",
   "execution_count": 37,
   "metadata": {},
   "outputs": [],
   "source": [
    "TP = pd.merge(class_adopted,classification_adopted,left_index=True,right_index=True).shape[0]\n",
    "TN = pd.merge(class_not_adopted,classification_not_adopted,left_index=True,right_index=True).shape[0]\n",
    "FP = pd.merge(class_not_adopted,classification_adopted,left_index=True,right_index=True).shape[0]\n",
    "FN = pd.merge(class_adopted,classification_not_adopted,left_index=True,right_index=True).shape[0]"
   ]
  },
  {
   "cell_type": "markdown",
   "metadata": {},
   "source": [
    "We can now build our confusion matrix. (For the positive class)"
   ]
  },
  {
   "cell_type": "code",
   "execution_count": 38,
   "metadata": {},
   "outputs": [
    {
     "data": {
      "text/html": [
       "<div>\n",
       "<style scoped>\n",
       "    .dataframe tbody tr th:only-of-type {\n",
       "        vertical-align: middle;\n",
       "    }\n",
       "\n",
       "    .dataframe tbody tr th {\n",
       "        vertical-align: top;\n",
       "    }\n",
       "\n",
       "    .dataframe thead th {\n",
       "        text-align: right;\n",
       "    }\n",
       "</style>\n",
       "<table border=\"1\" class=\"dataframe\">\n",
       "  <thead>\n",
       "    <tr style=\"text-align: right;\">\n",
       "      <th></th>\n",
       "      <th>0</th>\n",
       "      <th>1</th>\n",
       "    </tr>\n",
       "  </thead>\n",
       "  <tbody>\n",
       "    <tr>\n",
       "      <th>0</th>\n",
       "      <td>5477</td>\n",
       "      <td>1672</td>\n",
       "    </tr>\n",
       "    <tr>\n",
       "      <th>1</th>\n",
       "      <td>1178</td>\n",
       "      <td>7607</td>\n",
       "    </tr>\n",
       "  </tbody>\n",
       "</table>\n",
       "</div>"
      ],
      "text/plain": [
       "      0     1\n",
       "0  5477  1672\n",
       "1  1178  7607"
      ]
     },
     "execution_count": 38,
     "metadata": {},
     "output_type": "execute_result"
    }
   ],
   "source": [
    "confusion_matrix = pd.DataFrame([[TP,FP],[FN,TN]])\n",
    "confusion_matrix"
   ]
  },
  {
   "cell_type": "markdown",
   "metadata": {},
   "source": [
    "For the negative class:"
   ]
  },
  {
   "cell_type": "code",
   "execution_count": 39,
   "metadata": {},
   "outputs": [
    {
     "data": {
      "text/html": [
       "<div>\n",
       "<style scoped>\n",
       "    .dataframe tbody tr th:only-of-type {\n",
       "        vertical-align: middle;\n",
       "    }\n",
       "\n",
       "    .dataframe tbody tr th {\n",
       "        vertical-align: top;\n",
       "    }\n",
       "\n",
       "    .dataframe thead th {\n",
       "        text-align: right;\n",
       "    }\n",
       "</style>\n",
       "<table border=\"1\" class=\"dataframe\">\n",
       "  <thead>\n",
       "    <tr style=\"text-align: right;\">\n",
       "      <th></th>\n",
       "      <th>0</th>\n",
       "      <th>1</th>\n",
       "    </tr>\n",
       "  </thead>\n",
       "  <tbody>\n",
       "    <tr>\n",
       "      <th>0</th>\n",
       "      <td>7607</td>\n",
       "      <td>1178</td>\n",
       "    </tr>\n",
       "    <tr>\n",
       "      <th>1</th>\n",
       "      <td>1672</td>\n",
       "      <td>5477</td>\n",
       "    </tr>\n",
       "  </tbody>\n",
       "</table>\n",
       "</div>"
      ],
      "text/plain": [
       "      0     1\n",
       "0  7607  1178\n",
       "1  1672  5477"
      ]
     },
     "execution_count": 39,
     "metadata": {},
     "output_type": "execute_result"
    }
   ],
   "source": [
    "confusion_matrix2 = pd.DataFrame([[TN,FN],[FP,TP]])\n",
    "confusion_matrix2"
   ]
  },
  {
   "cell_type": "markdown",
   "metadata": {},
   "source": [
    "We can now establish the classifier's performance. For the second class we will just add a 2 athe end of the variable."
   ]
  },
  {
   "cell_type": "code",
   "execution_count": 40,
   "metadata": {},
   "outputs": [],
   "source": [
    "# Positive class\n",
    "accuracy = (TP + TN)/(TP + TN + FP + FN)\n",
    "precision = TP / (TP + FP)\n",
    "recall = TP / (TP + FN)\n",
    "f1_score = 2*precision*recall / (precision + recall)\n",
    "\n",
    "# Negative class\n",
    "accuracy2 = (TP + TN)/(TP + TN + FP + FN)\n",
    "precision2 = TN / (TN + FN)\n",
    "recall2 = TN / (TN + FP)\n",
    "f1_score2 = 2*precision2*recall2 / (precision2 + recall2)\n",
    "\n",
    "performances1 = pd.DataFrame([[accuracy,precision,recall,f1_score]], columns=['accuracy','precision','recall','f1score'])\n",
    "performances2 = pd.DataFrame([[accuracy2,precision2,recall2,f1_score2]], columns=['accuracy2','precision2','recall2','f1score2'])"
   ]
  },
  {
   "cell_type": "markdown",
   "metadata": {},
   "source": [
    "Performance with respect to the positive class"
   ]
  },
  {
   "cell_type": "code",
   "execution_count": 41,
   "metadata": {},
   "outputs": [
    {
     "data": {
      "text/html": [
       "<div>\n",
       "<style scoped>\n",
       "    .dataframe tbody tr th:only-of-type {\n",
       "        vertical-align: middle;\n",
       "    }\n",
       "\n",
       "    .dataframe tbody tr th {\n",
       "        vertical-align: top;\n",
       "    }\n",
       "\n",
       "    .dataframe thead th {\n",
       "        text-align: right;\n",
       "    }\n",
       "</style>\n",
       "<table border=\"1\" class=\"dataframe\">\n",
       "  <thead>\n",
       "    <tr style=\"text-align: right;\">\n",
       "      <th></th>\n",
       "      <th>accuracy</th>\n",
       "      <th>precision</th>\n",
       "      <th>recall</th>\n",
       "      <th>f1score</th>\n",
       "    </tr>\n",
       "  </thead>\n",
       "  <tbody>\n",
       "    <tr>\n",
       "      <th>0</th>\n",
       "      <td>0.821137</td>\n",
       "      <td>0.766121</td>\n",
       "      <td>0.82299</td>\n",
       "      <td>0.793538</td>\n",
       "    </tr>\n",
       "  </tbody>\n",
       "</table>\n",
       "</div>"
      ],
      "text/plain": [
       "   accuracy  precision   recall   f1score\n",
       "0  0.821137   0.766121  0.82299  0.793538"
      ]
     },
     "execution_count": 41,
     "metadata": {},
     "output_type": "execute_result"
    }
   ],
   "source": [
    "performances1"
   ]
  },
  {
   "cell_type": "markdown",
   "metadata": {},
   "source": [
    "Performance with respect to the negative class"
   ]
  },
  {
   "cell_type": "code",
   "execution_count": 42,
   "metadata": {},
   "outputs": [
    {
     "data": {
      "text/html": [
       "<div>\n",
       "<style scoped>\n",
       "    .dataframe tbody tr th:only-of-type {\n",
       "        vertical-align: middle;\n",
       "    }\n",
       "\n",
       "    .dataframe tbody tr th {\n",
       "        vertical-align: top;\n",
       "    }\n",
       "\n",
       "    .dataframe thead th {\n",
       "        text-align: right;\n",
       "    }\n",
       "</style>\n",
       "<table border=\"1\" class=\"dataframe\">\n",
       "  <thead>\n",
       "    <tr style=\"text-align: right;\">\n",
       "      <th></th>\n",
       "      <th>accuracy2</th>\n",
       "      <th>precision2</th>\n",
       "      <th>recall2</th>\n",
       "      <th>f1score2</th>\n",
       "    </tr>\n",
       "  </thead>\n",
       "  <tbody>\n",
       "    <tr>\n",
       "      <th>0</th>\n",
       "      <td>0.821137</td>\n",
       "      <td>0.865908</td>\n",
       "      <td>0.819808</td>\n",
       "      <td>0.842228</td>\n",
       "    </tr>\n",
       "  </tbody>\n",
       "</table>\n",
       "</div>"
      ],
      "text/plain": [
       "   accuracy2  precision2   recall2  f1score2\n",
       "0   0.821137    0.865908  0.819808  0.842228"
      ]
     },
     "execution_count": 42,
     "metadata": {},
     "output_type": "execute_result"
    }
   ],
   "source": [
    "performances2"
   ]
  },
  {
   "cell_type": "markdown",
   "metadata": {},
   "source": [
    "As we can see, for a threshold of 0.5, the precision, recall and f1 score is higher with respect to the negative class. Accuracy is the same in both cases (as it should be)."
   ]
  },
  {
   "cell_type": "markdown",
   "metadata": {},
   "source": [
    "Next we want to test the effects of a varying threshold on the classifier's perfromance. Hence we took the above script and made a method which returns the performances and the confusion matrices (with respect to both clases) given a prediction and the correct results."
   ]
  },
  {
   "cell_type": "code",
   "execution_count": 43,
   "metadata": {},
   "outputs": [],
   "source": [
    "def get_perf_two_cases(class_df,classification_df):\n",
    "    perf_df = pd.concat([class_df,classification_df],axis=1)\n",
    "    perf_df.columns = ['class','classification']\n",
    "    \n",
    "    class_adopted = perf_df[perf_df['class'] == 1.0][['class']]\n",
    "    class_not_adopted = perf_df[perf_df['class'] == 0.0][['class']]\n",
    "    classification_adopted = perf_df[perf_df['classification'] == 1.0][['classification']]\n",
    "    classification_not_adopted = perf_df[perf_df['classification'] == 0.0][['classification']]\n",
    "    \n",
    "    TP = pd.merge(class_adopted,classification_adopted,left_index=True,right_index=True).shape[0]\n",
    "    TN = pd.merge(class_not_adopted,classification_not_adopted,left_index=True,right_index=True).shape[0]\n",
    "    FP = pd.merge(class_not_adopted,classification_adopted,left_index=True,right_index=True).shape[0]\n",
    "    FN = pd.merge(class_adopted,classification_not_adopted,left_index=True,right_index=True).shape[0]\n",
    "    \n",
    "    accuracy = (TP + TN)/(TP + TN + FP + FN)\n",
    "    precision = TP / (TP + FP)\n",
    "    recall = TP / (TP + FN)\n",
    "    f1_score = 2*precision*recall / (precision + recall)\n",
    "    \n",
    "    accuracy2 = (TP + TN)/(TP + TN + FP + FN)\n",
    "    precision2 = TN / (TN + FN)\n",
    "    recall2 = TN / (TN + FP)\n",
    "    f1_score2 = 2*precision2*recall2 / (precision2 + recall2)\n",
    "\n",
    "    performances = pd.DataFrame([[accuracy,precision,recall,f1_score]], columns=['accuracy','precision','recall', \\\n",
    "                                                                                 'f1score'])\n",
    "    performances2 = pd.DataFrame([[accuracy2,precision2,recall2,f1_score2]], columns=['accuracy2','precision2','recall2', \\\n",
    "                                                                                 'f1score2'])\n",
    "    \n",
    "    confusion_matrix = pd.DataFrame([[TP,FP],[FN,TN]])                                                                             \n",
    "    confusion_matrix2 = pd.DataFrame([[TN,FN],[FP,TP]])\n",
    "    \n",
    "    return (performances,performances2, confusion_matrix, confusion_matrix2)\n",
    "    "
   ]
  },
  {
   "cell_type": "markdown",
   "metadata": {},
   "source": [
    "We shall now evaluate the performance of our classifier with thresholds varying from 0.01 to 0.99 in steps of 0.01."
   ]
  },
  {
   "cell_type": "code",
   "execution_count": 44,
   "metadata": {},
   "outputs": [],
   "source": [
    "performance_results1 = pd.DataFrame([],columns=['accuracy','precision','recall','f1score'])\n",
    "performance_results2 = pd.DataFrame([],columns=['accuracy2','precision2','recall2','f1score2'])\n",
    "thresholds = pd.DataFrame([i/100 for i in range(1,101)],columns = ['threshold'])\n",
    "\n",
    "for i in range(1,100):\n",
    "    threshold = i/100\n",
    "    pred = pd.DataFrame(logistic.predict_proba(test_df[new_features])).iloc[:,0].apply(lambda x: 0 if x>threshold else 1).to_frame()\n",
    "    performance_results1 = pd.concat([performance_results1,get_perf_two_cases(test_df['outcome_type'].reset_index()[['outcome_type']],pred)[0]], axis = 0)\n",
    "    performance_results2 = pd.concat([performance_results2,get_perf_two_cases(test_df['outcome_type'].reset_index()[['outcome_type']],pred)[1]], axis = 0)\n",
    "\n",
    "performance_results1 = pd.concat([thresholds,performance_results1.reset_index().iloc[:,1:]],axis=1).iloc[:-1,:]\n",
    "performance_results2 = pd.concat([thresholds,performance_results2.reset_index().iloc[:,1:]],axis=1).iloc[:-1,:]"
   ]
  },
  {
   "cell_type": "markdown",
   "metadata": {},
   "source": [
    "Let us now plot these scores on the same plot at first just to get a general idead of our classifier's performance."
   ]
  },
  {
   "cell_type": "markdown",
   "metadata": {},
   "source": [
    "First for the positive class"
   ]
  },
  {
   "cell_type": "code",
   "execution_count": 45,
   "metadata": {},
   "outputs": [
    {
     "data": {
      "text/plain": [
       "<Figure size 1080x1080 with 0 Axes>"
      ]
     },
     "metadata": {},
     "output_type": "display_data"
    },
    {
     "data": {
      "image/png": "[encoded data removed]",
      "text/plain": [
       "<Figure size 432x288 with 1 Axes>"
      ]
     },
     "metadata": {
      "needs_background": "light"
     },
     "output_type": "display_data"
    }
   ],
   "source": [
    "fig = plt.figure(figsize=(15,15))\n",
    "performance_results1.set_index('threshold').plot()\n",
    "plt.title(\"performance of classifier with increasing selection threshold\")\n",
    "plt.ylabel(\"value\")\n",
    "plt.show()"
   ]
  },
  {
   "cell_type": "markdown",
   "metadata": {},
   "source": [
    "Let us now plot them individually "
   ]
  },
  {
   "cell_type": "code",
   "execution_count": 46,
   "metadata": {
    "scrolled": false
   },
   "outputs": [
    {
     "data": {
      "image/png": "[encoded data removed]",
      "text/plain": [
       "<Figure size 1440x720 with 4 Axes>"
      ]
     },
     "metadata": {
      "needs_background": "light"
     },
     "output_type": "display_data"
    }
   ],
   "source": [
    "fig = plt.figure(figsize=(20,10))\n",
    "plt.subplot(2,2,1)\n",
    "plt.plot(performance_results1['threshold'], performance_results1['accuracy'], 'b-')\n",
    "plt.title('accuracy')\n",
    "plt.xlabel('threshold')\n",
    "plt.ylabel('score')\n",
    "plt.subplot(2,2,2)\n",
    "plt.plot(performance_results1['threshold'], performance_results1['precision'], 'y-')\n",
    "plt.title('precision')\n",
    "plt.xlabel('threshold')\n",
    "plt.ylabel('score')\n",
    "plt.subplot(2,2,3)\n",
    "plt.plot(performance_results1['threshold'], performance_results1['recall'], 'g-')\n",
    "plt.title('recall')\n",
    "plt.xlabel('threshold')\n",
    "plt.ylabel('score')\n",
    "plt.subplot(2,2,4)\n",
    "plt.plot(performance_results1['threshold'], performance_results1['f1score'], 'r-')\n",
    "plt.title('f1score')\n",
    "plt.xlabel('threshold')\n",
    "plt.ylabel('score')\n",
    "\n",
    "plt.show()"
   ]
  },
  {
   "cell_type": "markdown",
   "metadata": {},
   "source": [
    "Next for the negative case"
   ]
  },
  {
   "cell_type": "code",
   "execution_count": 47,
   "metadata": {},
   "outputs": [
    {
     "data": {
      "text/plain": [
       "<Figure size 1080x1080 with 0 Axes>"
      ]
     },
     "metadata": {},
     "output_type": "display_data"
    },
    {
     "data": {
      "image/png": "[encoded data removed]",
      "text/plain": [
       "<Figure size 432x288 with 1 Axes>"
      ]
     },
     "metadata": {
      "needs_background": "light"
     },
     "output_type": "display_data"
    }
   ],
   "source": [
    "fig = plt.figure(figsize=(15,15))\n",
    "performance_results2.set_index('threshold').plot()\n",
    "plt.title(\"performance of classifier with increasing selection threshold\")\n",
    "plt.ylabel(\"value\")\n",
    "plt.show()"
   ]
  },
  {
   "cell_type": "markdown",
   "metadata": {},
   "source": [
    "Let us now plot them individually "
   ]
  },
  {
   "cell_type": "code",
   "execution_count": 48,
   "metadata": {},
   "outputs": [
    {
     "data": {
      "image/png": "[encoded data removed]",
      "text/plain": [
       "<Figure size 1440x720 with 4 Axes>"
      ]
     },
     "metadata": {
      "needs_background": "light"
     },
     "output_type": "display_data"
    }
   ],
   "source": [
    "fig = plt.figure(figsize=(20,10))\n",
    "plt.subplot(2,2,1)\n",
    "plt.plot(performance_results2['threshold'], performance_results2['accuracy2'], 'b-')\n",
    "plt.title('accuracy')\n",
    "plt.xlabel('threshold')\n",
    "plt.ylabel('score')\n",
    "plt.subplot(2,2,2)\n",
    "plt.plot(performance_results2['threshold'], performance_results2['precision2'], 'y-')\n",
    "plt.title('precision')\n",
    "plt.xlabel('threshold')\n",
    "plt.ylabel('score')\n",
    "plt.subplot(2,2,3)\n",
    "plt.plot(performance_results2['threshold'], performance_results2['recall2'], 'g-')\n",
    "plt.title('recall')\n",
    "plt.xlabel('threshold')\n",
    "plt.ylabel('score')\n",
    "plt.subplot(2,2,4)\n",
    "plt.plot(performance_results2['threshold'], performance_results2['f1score2'], 'r-')\n",
    "plt.title('f1score')\n",
    "plt.xlabel('threshold')\n",
    "plt.ylabel('score')\n",
    "\n",
    "plt.show()"
   ]
  },
  {
   "cell_type": "markdown",
   "metadata": {},
   "source": [
    "Let us now put the metrics side by side (positive class on the left, negative class on the right)"
   ]
  },
  {
   "cell_type": "code",
   "execution_count": 49,
   "metadata": {},
   "outputs": [
    {
     "data": {
      "image/png": "[encoded data removed]",
      "text/plain": [
       "<Figure size 1440x1440 with 8 Axes>"
      ]
     },
     "metadata": {
      "needs_background": "light"
     },
     "output_type": "display_data"
    }
   ],
   "source": [
    "fig = plt.figure(figsize=(20,20))\n",
    "plt.subplot(4,2,1)\n",
    "plt.plot(performance_results1['threshold'], performance_results1['accuracy'], 'b-')\n",
    "plt.title('accuracy')\n",
    "plt.xlabel('threshold')\n",
    "plt.ylabel('score')\n",
    "plt.subplot(4,2,2)\n",
    "plt.plot(performance_results2['threshold'], performance_results2['accuracy2'], 'b-')\n",
    "plt.title('accuracy')\n",
    "plt.xlabel('threshold')\n",
    "plt.ylabel('score')\n",
    "plt.subplot(4,2,3)\n",
    "plt.plot(performance_results1['threshold'], performance_results1['recall'], 'y-')\n",
    "plt.title('recall')\n",
    "plt.xlabel('threshold')\n",
    "plt.ylabel('score')\n",
    "plt.subplot(4,2,4)\n",
    "plt.plot(performance_results2['threshold'], performance_results2['recall2'], 'y-')\n",
    "plt.title('recall')\n",
    "plt.xlabel('threshold')\n",
    "plt.ylabel('score')\n",
    "plt.subplot(4,2,5)\n",
    "plt.plot(performance_results1['threshold'], performance_results1['precision'], 'g-')\n",
    "plt.title('precision')\n",
    "plt.xlabel('threshold')\n",
    "plt.ylabel('score')\n",
    "plt.subplot(4,2,6)\n",
    "plt.plot(performance_results2['threshold'], performance_results2['precision2'], 'g-')\n",
    "plt.title('precision')\n",
    "plt.xlabel('threshold')\n",
    "plt.ylabel('score')\n",
    "plt.subplot(4,2,7)\n",
    "plt.plot(performance_results1['threshold'], performance_results1['f1score'], 'r-')\n",
    "plt.title('f1score')\n",
    "plt.xlabel('threshold')\n",
    "plt.ylabel('score')\n",
    "plt.subplot(4,2,8)\n",
    "plt.plot(performance_results2['threshold'], performance_results2['f1score2'], 'r-')\n",
    "plt.title('f1score')\n",
    "plt.xlabel('threshold')\n",
    "plt.ylabel('score')\n",
    "\n",
    "\n",
    "plt.show()"
   ]
  },
  {
   "cell_type": "markdown",
   "metadata": {},
   "source": [
    "As we can see, to derive the graph from the positive class to the negative class and vice-versa, we can just invert the x-axis (mirror image). Except for the accuracy which is the same with respect to both classes.\n",
    "\n",
    "For the accuracy, we can see that we reach a maximum for a threshold around 0.5, which makes sense because accuracy represents the ratio of missclassifications (positive and negative).\n",
    "\n",
    "For the recall, we can see that in the positive class: increasing the threshold, increases the score and for the negative class: increasing threshold, decreases the score.\n",
    "\n"
   ]
  },
  {
   "cell_type": "markdown",
   "metadata": {},
   "source": [
    "As to which metric to use, we need to remember that this involves lives, so what we want is to make sure that we don't kill any animal unless we're extremely sure that they won't be adopted a.k.a. minimize false negatives. Maximizing recall minimizes false negatives, so we would use this metric."
   ]
  },
  {
   "cell_type": "markdown",
   "metadata": {},
   "source": [
    "### 2C\n",
    "__Reduce the number of features by selecting the subset of the k best features. Use greedy backward selection to iteratively remove features. Evaluate performance and visualize the result using 5-fold cross-validation on the training set as a function of k, where k = 1, 5, 10, 15, 20, 25, 30. Choose the optimal k and justify your choice. Interpret the top-k features and their impact on the probability of adoption.__"
   ]
  },
  {
   "cell_type": "code",
   "execution_count": 50,
   "metadata": {},
   "outputs": [],
   "source": [
    "lr = LogisticRegression(solver='lbfgs')\n",
    "\n",
    "x_train = train_df.iloc[:,1:]\n",
    "y_train = train_df.iloc[:,0]\n",
    "\n",
    "x_test = test_df.iloc[:,1:]\n",
    "y_test = test_df.iloc[:,0]"
   ]
  },
  {
   "cell_type": "markdown",
   "metadata": {},
   "source": [
    "Implement cross-validation"
   ]
  },
  {
   "cell_type": "code",
   "execution_count": null,
   "metadata": {},
   "outputs": [],
   "source": [
    "def cv_5_fold(method, X, y):\n",
    "    \n",
    "    # split data\n",
    "    size = len(X)\n",
    "    fold_size = np.floor(len(X)/5)\n",
    "    fold_index = np.array([0, np.floor(size/fold_size), 2*np.floor(size/fold_size), \\\n",
    "                  3*np.floor(size/fold_size), 4*np.floor(size/fold_size), size-1])\n",
    "    fold_index = fold_index.astype(int)\n",
    "    \n",
    "    accuracies = []\n",
    "    \n",
    "    # train\n",
    "    for i in np.arange(0,5):\n",
    "        X_train = pd.concat([X.iloc[fold_index[0]:fold_index[i]-1], X.iloc[fold_index[i+1]:size-1]], axis=0)\n",
    "        X_test  = X.iloc[fold_index[i]:fold_index[i+1]]\n",
    "        \n",
    "        y_train = pd.concat([y.iloc[fold_index[0]:fold_index[i]-1,:], y.iloc[fold_index[i+1]:size-1,:]], axis=0)\n",
    "        y_test  = y.iloc[fold_index[i]:fold_index[i+1]]\n",
    "        \n",
    "        method.fit(X_train, y_train)\n",
    "        pred = pd.DataFrame(method.predict_proba(X_test)).iloc[:,0].apply(lambda x: 0 if x > 0.5 else 1)\n",
    "        accuracies.append(get_perf_two_cases(y_test.reset_index()['outcome_type'],pred)[0]['accuracy'])\n",
    "    \n",
    "    return accuracies"
   ]
  },
  {
   "cell_type": "markdown",
   "metadata": {},
   "source": [
    "Having done that we use greedy backward selection; removing every time (until we have just one feature) the feature that without it, we obtain the model (through cross_validation) with the best accuracy. We also save the best accuracy for every number of features (k) used to construct the model in the data frame `scores`, so that we will get a plot for visualizing the results easily."
   ]
  },
  {
   "cell_type": "code",
   "execution_count": 52,
   "metadata": {},
   "outputs": [],
   "source": [
    "optimal_df = x_train\n",
    "scores = pd.DataFrame([],columns=['k_features','best_accuracy'])\n",
    "for k in range(x_train.shape[1]-1,0,-1):\n",
    "    best_accuracy=0\n",
    "    #In this data frame we are going to introduce the accuracy obtained when removing each feature\n",
    "    perf_val = pd.DataFrame([],columns=['removed_feature','accuracy'])\n",
    "    for feat in optimal_df.columns:\n",
    "        accuracy = cross_val_score(lr,optimal_df.drop([feat],axis=1),y_train,cv=5,scoring='accuracy').mean()\n",
    "        perf_val = pd.concat([perf_val,pd.DataFrame([[feat,accuracy]],columns = ['removed_feature','accuracy'])])\n",
    "        \n",
    "        if best_accuracy<accuracy:\n",
    "            best_accuracy = accuracy\n",
    "        \n",
    "    worst_feat = perf_val.max()[0]\n",
    "    optimal_df = optimal_df.drop([worst_feat],axis=1)\n",
    "    #print(best_accuracy)\n",
    "    scores= pd.concat([scores,pd.DataFrame([[k,best_accuracy]],columns = ['k_features','best_accuracy'])], sort=False)\n",
    "    \n",
    "scores=scores.set_index(\"k_features\")"
   ]
  },
  {
   "cell_type": "markdown",
   "metadata": {},
   "source": [
    "Thus, we obtain the menthioned data frame with the best accuracy obtained using k features (for creating the prediction model)"
   ]
  },
  {
   "cell_type": "code",
   "execution_count": 53,
   "metadata": {},
   "outputs": [
    {
     "data": {
      "text/html": [
       "<div>\n",
       "<style scoped>\n",
       "    .dataframe tbody tr th:only-of-type {\n",
       "        vertical-align: middle;\n",
       "    }\n",
       "\n",
       "    .dataframe tbody tr th {\n",
       "        vertical-align: top;\n",
       "    }\n",
       "\n",
       "    .dataframe thead th {\n",
       "        text-align: right;\n",
       "    }\n",
       "</style>\n",
       "<table border=\"1\" class=\"dataframe\">\n",
       "  <thead>\n",
       "    <tr style=\"text-align: right;\">\n",
       "      <th></th>\n",
       "      <th>best_accuracy</th>\n",
       "    </tr>\n",
       "    <tr>\n",
       "      <th>k_features</th>\n",
       "      <th></th>\n",
       "    </tr>\n",
       "  </thead>\n",
       "  <tbody>\n",
       "    <tr>\n",
       "      <th>31</th>\n",
       "      <td>0.822759</td>\n",
       "    </tr>\n",
       "    <tr>\n",
       "      <th>30</th>\n",
       "      <td>0.810490</td>\n",
       "    </tr>\n",
       "    <tr>\n",
       "      <th>29</th>\n",
       "      <td>0.810490</td>\n",
       "    </tr>\n",
       "    <tr>\n",
       "      <th>28</th>\n",
       "      <td>0.810490</td>\n",
       "    </tr>\n",
       "    <tr>\n",
       "      <th>27</th>\n",
       "      <td>0.810490</td>\n",
       "    </tr>\n",
       "  </tbody>\n",
       "</table>\n",
       "</div>"
      ],
      "text/plain": [
       "            best_accuracy\n",
       "k_features               \n",
       "31               0.822759\n",
       "30               0.810490\n",
       "29               0.810490\n",
       "28               0.810490\n",
       "27               0.810490"
      ]
     },
     "execution_count": 53,
     "metadata": {},
     "output_type": "execute_result"
    }
   ],
   "source": [
    "scores.head()"
   ]
  },
  {
   "cell_type": "markdown",
   "metadata": {},
   "source": [
    "And simply create a plot from this data frame obtaining a good visualization: "
   ]
  },
  {
   "cell_type": "code",
   "execution_count": 54,
   "metadata": {},
   "outputs": [
    {
     "data": {
      "text/plain": [
       "[<matplotlib.lines.Line2D at 0x28c20a0f860>]"
      ]
     },
     "execution_count": 54,
     "metadata": {},
     "output_type": "execute_result"
    },
    {
     "data": {
      "image/png": "[encoded data removed]",
      "text/plain": [
       "<Figure size 432x288 with 1 Axes>"
      ]
     },
     "metadata": {
      "needs_background": "light"
     },
     "output_type": "display_data"
    }
   ],
   "source": [
    "plt.plot(scores.index,scores['best_accuracy']);"
   ]
  },
  {
   "cell_type": "markdown",
   "metadata": {},
   "source": [
    "So we can clearly see that the best model (which produce the best accuracy) is the one obtained by all the features (k=31). We also check that usually the accuracy is better when we have more features for creating the model, however there are cases when removing a feature do not influence in the accuracy or even makes it greater. We could interpret that this features are introducing noise in our model (when we have already removed other features)"
   ]
  },
  {
   "cell_type": "markdown",
   "metadata": {},
   "source": [
    "### 2D\n",
    "__Train a random forest. Use 5-fold cross-validation on the training set to fine-tune the parameters of the classifier using a grid search on the number of estimators \"n_estimators\" and the max depth of the trees \"max_depth\". For the chosen parameters, estimate the performance of your classifier on the test set by presenting the confusion matrix, accuracy, precision, recall, and F1-score with respect to both classes and compare the performance with the performance of the logistic regression. Interpret the results.__"
   ]
  },
  {
   "cell_type": "markdown",
   "metadata": {},
   "source": [
    "RandomForestClassifier(n_estimators=’warn’, criterion=’gini’, max_depth=None, min_samples_split=2, min_samples_leaf=1, min_weight_fraction_leaf=0.0, max_features=’auto’, max_leaf_nodes=None, min_impurity_decrease=0.0, min_impurity_split=None, bootstrap=True, oob_score=False, n_jobs=None, random_state=None, verbose=0, warm_start=False, class_weight=None)"
   ]
  },
  {
   "cell_type": "markdown",
   "metadata": {},
   "source": [
    "Firstly, we do grid search on the number of estimators \"n_estimators\" and the max depth of the trees \"max_depth\". We decide to use the accuracy as a criteria for comparing the quality of the diferents models (created by differents \"n_estimators\" and \"max_depth\"). So, we compute a data frame with the accuracy for every pair (n_estimators, max_depth) explorated."
   ]
  },
  {
   "cell_type": "code",
   "execution_count": 55,
   "metadata": {},
   "outputs": [
    {
     "data": {
      "text/html": [
       "<div>\n",
       "<style scoped>\n",
       "    .dataframe tbody tr th:only-of-type {\n",
       "        vertical-align: middle;\n",
       "    }\n",
       "\n",
       "    .dataframe tbody tr th {\n",
       "        vertical-align: top;\n",
       "    }\n",
       "\n",
       "    .dataframe thead th {\n",
       "        text-align: right;\n",
       "    }\n",
       "</style>\n",
       "<table border=\"1\" class=\"dataframe\">\n",
       "  <thead>\n",
       "    <tr style=\"text-align: right;\">\n",
       "      <th></th>\n",
       "      <th>n_estimators</th>\n",
       "      <th>max_depth</th>\n",
       "      <th>accuracy</th>\n",
       "    </tr>\n",
       "  </thead>\n",
       "  <tbody>\n",
       "    <tr>\n",
       "      <th>0</th>\n",
       "      <td>10.0</td>\n",
       "      <td>12.0</td>\n",
       "      <td>0.851501</td>\n",
       "    </tr>\n",
       "    <tr>\n",
       "      <th>1</th>\n",
       "      <td>10.0</td>\n",
       "      <td>14.0</td>\n",
       "      <td>0.852600</td>\n",
       "    </tr>\n",
       "    <tr>\n",
       "      <th>2</th>\n",
       "      <td>10.0</td>\n",
       "      <td>16.0</td>\n",
       "      <td>0.853870</td>\n",
       "    </tr>\n",
       "    <tr>\n",
       "      <th>3</th>\n",
       "      <td>10.0</td>\n",
       "      <td>18.0</td>\n",
       "      <td>0.849352</td>\n",
       "    </tr>\n",
       "    <tr>\n",
       "      <th>5</th>\n",
       "      <td>20.0</td>\n",
       "      <td>12.0</td>\n",
       "      <td>0.852207</td>\n",
       "    </tr>\n",
       "  </tbody>\n",
       "</table>\n",
       "</div>"
      ],
      "text/plain": [
       "   n_estimators  max_depth  accuracy\n",
       "0          10.0       12.0  0.851501\n",
       "1          10.0       14.0  0.852600\n",
       "2          10.0       16.0  0.853870\n",
       "3          10.0       18.0  0.849352\n",
       "5          20.0       12.0  0.852207"
      ]
     },
     "execution_count": 55,
     "metadata": {},
     "output_type": "execute_result"
    }
   ],
   "source": [
    "performance_results = pd.DataFrame(columns=['n_estimators', 'max_depth','accuracy'])\n",
    "\n",
    "n=5\n",
    "for i in range(1, n):\n",
    "    for j in range(1, n):\n",
    "        n_esti = i*10\n",
    "        m_depth = 10 + j*2\n",
    "        forestC = RandomForestClassifier(n_estimators=n_esti, max_depth=m_depth)\n",
    "        accuracy = cross_val_score(forestC, x_train, y_train, cv = 5, scoring='accuracy').mean()\n",
    "        performance_results.loc[i*n+j-n-1] = [n_esti, m_depth,accuracy]  #i*n-n-1 to access to the correct index\n",
    "\n",
    "performance_results.head()"
   ]
  },
  {
   "cell_type": "markdown",
   "metadata": {},
   "source": [
    "Now, we sort the data frame by the accuracy and chosee the parameters  \"n_estimators\" and \"max_depth\" which have achieve the best accuracy."
   ]
  },
  {
   "cell_type": "code",
   "execution_count": 56,
   "metadata": {},
   "outputs": [
    {
     "data": {
      "text/html": [
       "<div>\n",
       "<style scoped>\n",
       "    .dataframe tbody tr th:only-of-type {\n",
       "        vertical-align: middle;\n",
       "    }\n",
       "\n",
       "    .dataframe tbody tr th {\n",
       "        vertical-align: top;\n",
       "    }\n",
       "\n",
       "    .dataframe thead th {\n",
       "        text-align: right;\n",
       "    }\n",
       "</style>\n",
       "<table border=\"1\" class=\"dataframe\">\n",
       "  <thead>\n",
       "    <tr style=\"text-align: right;\">\n",
       "      <th></th>\n",
       "      <th>n_estimators</th>\n",
       "      <th>max_depth</th>\n",
       "      <th>accuracy</th>\n",
       "    </tr>\n",
       "  </thead>\n",
       "  <tbody>\n",
       "    <tr>\n",
       "      <th>0</th>\n",
       "      <td>10.0</td>\n",
       "      <td>12.0</td>\n",
       "      <td>0.851501</td>\n",
       "    </tr>\n",
       "    <tr>\n",
       "      <th>1</th>\n",
       "      <td>10.0</td>\n",
       "      <td>14.0</td>\n",
       "      <td>0.852600</td>\n",
       "    </tr>\n",
       "    <tr>\n",
       "      <th>2</th>\n",
       "      <td>10.0</td>\n",
       "      <td>16.0</td>\n",
       "      <td>0.853870</td>\n",
       "    </tr>\n",
       "    <tr>\n",
       "      <th>3</th>\n",
       "      <td>10.0</td>\n",
       "      <td>18.0</td>\n",
       "      <td>0.849352</td>\n",
       "    </tr>\n",
       "    <tr>\n",
       "      <th>5</th>\n",
       "      <td>20.0</td>\n",
       "      <td>12.0</td>\n",
       "      <td>0.852207</td>\n",
       "    </tr>\n",
       "    <tr>\n",
       "      <th>6</th>\n",
       "      <td>20.0</td>\n",
       "      <td>14.0</td>\n",
       "      <td>0.854231</td>\n",
       "    </tr>\n",
       "    <tr>\n",
       "      <th>7</th>\n",
       "      <td>20.0</td>\n",
       "      <td>16.0</td>\n",
       "      <td>0.854012</td>\n",
       "    </tr>\n",
       "    <tr>\n",
       "      <th>8</th>\n",
       "      <td>20.0</td>\n",
       "      <td>18.0</td>\n",
       "      <td>0.852317</td>\n",
       "    </tr>\n",
       "    <tr>\n",
       "      <th>10</th>\n",
       "      <td>30.0</td>\n",
       "      <td>12.0</td>\n",
       "      <td>0.852960</td>\n",
       "    </tr>\n",
       "    <tr>\n",
       "      <th>11</th>\n",
       "      <td>30.0</td>\n",
       "      <td>14.0</td>\n",
       "      <td>0.854796</td>\n",
       "    </tr>\n",
       "    <tr>\n",
       "      <th>12</th>\n",
       "      <td>30.0</td>\n",
       "      <td>16.0</td>\n",
       "      <td>0.855314</td>\n",
       "    </tr>\n",
       "    <tr>\n",
       "      <th>13</th>\n",
       "      <td>30.0</td>\n",
       "      <td>18.0</td>\n",
       "      <td>0.853572</td>\n",
       "    </tr>\n",
       "    <tr>\n",
       "      <th>15</th>\n",
       "      <td>40.0</td>\n",
       "      <td>12.0</td>\n",
       "      <td>0.852631</td>\n",
       "    </tr>\n",
       "    <tr>\n",
       "      <th>16</th>\n",
       "      <td>40.0</td>\n",
       "      <td>14.0</td>\n",
       "      <td>0.855486</td>\n",
       "    </tr>\n",
       "    <tr>\n",
       "      <th>17</th>\n",
       "      <td>40.0</td>\n",
       "      <td>16.0</td>\n",
       "      <td>0.855141</td>\n",
       "    </tr>\n",
       "    <tr>\n",
       "      <th>18</th>\n",
       "      <td>40.0</td>\n",
       "      <td>18.0</td>\n",
       "      <td>0.854576</td>\n",
       "    </tr>\n",
       "  </tbody>\n",
       "</table>\n",
       "</div>"
      ],
      "text/plain": [
       "    n_estimators  max_depth  accuracy\n",
       "0           10.0       12.0  0.851501\n",
       "1           10.0       14.0  0.852600\n",
       "2           10.0       16.0  0.853870\n",
       "3           10.0       18.0  0.849352\n",
       "5           20.0       12.0  0.852207\n",
       "6           20.0       14.0  0.854231\n",
       "7           20.0       16.0  0.854012\n",
       "8           20.0       18.0  0.852317\n",
       "10          30.0       12.0  0.852960\n",
       "11          30.0       14.0  0.854796\n",
       "12          30.0       16.0  0.855314\n",
       "13          30.0       18.0  0.853572\n",
       "15          40.0       12.0  0.852631\n",
       "16          40.0       14.0  0.855486\n",
       "17          40.0       16.0  0.855141\n",
       "18          40.0       18.0  0.854576"
      ]
     },
     "execution_count": 56,
     "metadata": {},
     "output_type": "execute_result"
    }
   ],
   "source": [
    "performance_results"
   ]
  },
  {
   "cell_type": "code",
   "execution_count": 57,
   "metadata": {},
   "outputs": [
    {
     "data": {
      "text/html": [
       "<div>\n",
       "<style scoped>\n",
       "    .dataframe tbody tr th:only-of-type {\n",
       "        vertical-align: middle;\n",
       "    }\n",
       "\n",
       "    .dataframe tbody tr th {\n",
       "        vertical-align: top;\n",
       "    }\n",
       "\n",
       "    .dataframe thead th {\n",
       "        text-align: right;\n",
       "    }\n",
       "</style>\n",
       "<table border=\"1\" class=\"dataframe\">\n",
       "  <thead>\n",
       "    <tr style=\"text-align: right;\">\n",
       "      <th></th>\n",
       "      <th>n_estimators</th>\n",
       "      <th>max_depth</th>\n",
       "      <th>accuracy</th>\n",
       "    </tr>\n",
       "  </thead>\n",
       "  <tbody>\n",
       "    <tr>\n",
       "      <th>16</th>\n",
       "      <td>40.0</td>\n",
       "      <td>14.0</td>\n",
       "      <td>0.855486</td>\n",
       "    </tr>\n",
       "  </tbody>\n",
       "</table>\n",
       "</div>"
      ],
      "text/plain": [
       "    n_estimators  max_depth  accuracy\n",
       "16          40.0       14.0  0.855486"
      ]
     },
     "execution_count": 57,
     "metadata": {},
     "output_type": "execute_result"
    }
   ],
   "source": [
    "performance_results.sort_values(by=\"accuracy\", ascending=False).head(1)"
   ]
  },
  {
   "cell_type": "markdown",
   "metadata": {},
   "source": [
    "Thus, we choose these values for both parameters and compute our predictions: "
   ]
  },
  {
   "cell_type": "code",
   "execution_count": 129,
   "metadata": {
    "scrolled": true
   },
   "outputs": [
    {
     "data": {
      "text/plain": [
       "array([0., 1., 0., ..., 1., 0., 0.])"
      ]
     },
     "execution_count": 129,
     "metadata": {},
     "output_type": "execute_result"
    }
   ],
   "source": [
    "n_esti=30\n",
    "m_depth=14\n",
    "forestC=RandomForestClassifier(n_estimators=n_esti, max_depth=m_depth)\n",
    "predicted= cross_val_predict(forestC,x_train, y_train, cv = 5)\n",
    "predicted"
   ]
  },
  {
   "cell_type": "markdown",
   "metadata": {},
   "source": [
    "Having done this, it is easy to compute the confusin matrix, accuracy, recall, precision and f1 using the function `get_perf_two_cases` defined in part B. This function will return a vector with the accuracy, precision, recall, and F1-score with respect to both classes, and also the confusion matrix.\n"
   ]
  },
  {
   "cell_type": "code",
   "execution_count": 153,
   "metadata": {},
   "outputs": [],
   "source": [
    "perf_results1, perf_results2, confusion_matrix1, confusion_matrix2 = get_perf_two_cases(y_train.to_frame().reset_index()[['outcome_type']], pd.Series(predicted).to_frame())"
   ]
  },
  {
   "cell_type": "markdown",
   "metadata": {},
   "source": [
    "First we see the confusin matrix; and the accuracy, precision, recall, and F1-score with respect to the first class. (Positives are adopted)"
   ]
  },
  {
   "cell_type": "code",
   "execution_count": 154,
   "metadata": {
    "scrolled": true
   },
   "outputs": [
    {
     "data": {
      "text/html": [
       "<div>\n",
       "<style scoped>\n",
       "    .dataframe tbody tr th:only-of-type {\n",
       "        vertical-align: middle;\n",
       "    }\n",
       "\n",
       "    .dataframe tbody tr th {\n",
       "        vertical-align: top;\n",
       "    }\n",
       "\n",
       "    .dataframe thead th {\n",
       "        text-align: right;\n",
       "    }\n",
       "</style>\n",
       "<table border=\"1\" class=\"dataframe\">\n",
       "  <thead>\n",
       "    <tr style=\"text-align: right;\">\n",
       "      <th></th>\n",
       "      <th>0</th>\n",
       "      <th>1</th>\n",
       "    </tr>\n",
       "  </thead>\n",
       "  <tbody>\n",
       "    <tr>\n",
       "      <th>0</th>\n",
       "      <td>24117</td>\n",
       "      <td>6450</td>\n",
       "    </tr>\n",
       "    <tr>\n",
       "      <th>1</th>\n",
       "      <td>2808</td>\n",
       "      <td>30363</td>\n",
       "    </tr>\n",
       "  </tbody>\n",
       "</table>\n",
       "</div>"
      ],
      "text/plain": [
       "       0      1\n",
       "0  24117   6450\n",
       "1   2808  30363"
      ]
     },
     "execution_count": 154,
     "metadata": {},
     "output_type": "execute_result"
    }
   ],
   "source": [
    "confusion_matrix1"
   ]
  },
  {
   "cell_type": "code",
   "execution_count": 156,
   "metadata": {
    "scrolled": false
   },
   "outputs": [
    {
     "data": {
      "text/html": [
       "<div>\n",
       "<style scoped>\n",
       "    .dataframe tbody tr th:only-of-type {\n",
       "        vertical-align: middle;\n",
       "    }\n",
       "\n",
       "    .dataframe tbody tr th {\n",
       "        vertical-align: top;\n",
       "    }\n",
       "\n",
       "    .dataframe thead th {\n",
       "        text-align: right;\n",
       "    }\n",
       "</style>\n",
       "<table border=\"1\" class=\"dataframe\">\n",
       "  <thead>\n",
       "    <tr style=\"text-align: right;\">\n",
       "      <th></th>\n",
       "      <th>accuracy</th>\n",
       "      <th>precision</th>\n",
       "      <th>recall</th>\n",
       "      <th>f1score</th>\n",
       "    </tr>\n",
       "  </thead>\n",
       "  <tbody>\n",
       "    <tr>\n",
       "      <th>0</th>\n",
       "      <td>0.854749</td>\n",
       "      <td>0.788988</td>\n",
       "      <td>0.89571</td>\n",
       "      <td>0.838969</td>\n",
       "    </tr>\n",
       "  </tbody>\n",
       "</table>\n",
       "</div>"
      ],
      "text/plain": [
       "   accuracy  precision   recall   f1score\n",
       "0  0.854749   0.788988  0.89571  0.838969"
      ]
     },
     "execution_count": 156,
     "metadata": {},
     "output_type": "execute_result"
    }
   ],
   "source": [
    "perf_results1"
   ]
  },
  {
   "cell_type": "markdown",
   "metadata": {},
   "source": [
    "And now, we see the confusin matrix; and the accuracy, precision, recall, and F1-score with respect to the second class. (Positives are not adopted)"
   ]
  },
  {
   "cell_type": "code",
   "execution_count": 157,
   "metadata": {},
   "outputs": [
    {
     "data": {
      "text/html": [
       "<div>\n",
       "<style scoped>\n",
       "    .dataframe tbody tr th:only-of-type {\n",
       "        vertical-align: middle;\n",
       "    }\n",
       "\n",
       "    .dataframe tbody tr th {\n",
       "        vertical-align: top;\n",
       "    }\n",
       "\n",
       "    .dataframe thead th {\n",
       "        text-align: right;\n",
       "    }\n",
       "</style>\n",
       "<table border=\"1\" class=\"dataframe\">\n",
       "  <thead>\n",
       "    <tr style=\"text-align: right;\">\n",
       "      <th></th>\n",
       "      <th>0</th>\n",
       "      <th>1</th>\n",
       "    </tr>\n",
       "  </thead>\n",
       "  <tbody>\n",
       "    <tr>\n",
       "      <th>0</th>\n",
       "      <td>30363</td>\n",
       "      <td>2808</td>\n",
       "    </tr>\n",
       "    <tr>\n",
       "      <th>1</th>\n",
       "      <td>6450</td>\n",
       "      <td>24117</td>\n",
       "    </tr>\n",
       "  </tbody>\n",
       "</table>\n",
       "</div>"
      ],
      "text/plain": [
       "       0      1\n",
       "0  30363   2808\n",
       "1   6450  24117"
      ]
     },
     "execution_count": 157,
     "metadata": {},
     "output_type": "execute_result"
    }
   ],
   "source": [
    "confusion_matrix2"
   ]
  },
  {
   "cell_type": "code",
   "execution_count": 158,
   "metadata": {},
   "outputs": [
    {
     "data": {
      "text/html": [
       "<div>\n",
       "<style scoped>\n",
       "    .dataframe tbody tr th:only-of-type {\n",
       "        vertical-align: middle;\n",
       "    }\n",
       "\n",
       "    .dataframe tbody tr th {\n",
       "        vertical-align: top;\n",
       "    }\n",
       "\n",
       "    .dataframe thead th {\n",
       "        text-align: right;\n",
       "    }\n",
       "</style>\n",
       "<table border=\"1\" class=\"dataframe\">\n",
       "  <thead>\n",
       "    <tr style=\"text-align: right;\">\n",
       "      <th></th>\n",
       "      <th>accuracy2</th>\n",
       "      <th>precision2</th>\n",
       "      <th>recall2</th>\n",
       "      <th>f1score2</th>\n",
       "    </tr>\n",
       "  </thead>\n",
       "  <tbody>\n",
       "    <tr>\n",
       "      <th>0</th>\n",
       "      <td>0.854749</td>\n",
       "      <td>0.915348</td>\n",
       "      <td>0.82479</td>\n",
       "      <td>0.867713</td>\n",
       "    </tr>\n",
       "  </tbody>\n",
       "</table>\n",
       "</div>"
      ],
      "text/plain": [
       "   accuracy2  precision2  recall2  f1score2\n",
       "0   0.854749    0.915348  0.82479  0.867713"
      ]
     },
     "execution_count": 158,
     "metadata": {},
     "output_type": "execute_result"
    }
   ],
   "source": [
    "perf_results2"
   ]
  },
  {
   "cell_type": "markdown",
   "metadata": {},
   "source": [
    "Finally, we are going to compare the performance with the performance of the logistic regression. As we have said we choose the best performance with the accuracy as the main criteria, so we get compare the logistic regression that have obtained the greatest accuracy.."
   ]
  },
  {
   "cell_type": "code",
   "execution_count": 179,
   "metadata": {},
   "outputs": [
    {
     "data": {
      "text/plain": [
       "threshold    0.520000\n",
       "accuracy     0.822894\n",
       "precision    0.768383\n",
       "recall       0.825761\n",
       "f1score      0.796039\n",
       "Name: 51, dtype: float64"
      ]
     },
     "execution_count": 179,
     "metadata": {},
     "output_type": "execute_result"
    }
   ],
   "source": [
    "best_lr_index=performance_results['accuracy'].idxmax()\n",
    "performance_results.loc[best_lr_index]"
   ]
  },
  {
   "cell_type": "markdown",
   "metadata": {},
   "source": [
    "Taking the results of both models and according to our calculations random forest is just better by all metrics. (Note that is possible that some logistic regression model have better precision, recall or f1score.)"
   ]
  }
 ],
 "metadata": {
  "kernelspec": {
   "display_name": "Python 3",
   "language": "python",
   "name": "python3"
  },
  "language_info": {
   "codemirror_mode": {
    "name": "ipython",
    "version": 3
   },
   "file_extension": ".py",
   "mimetype": "text/x-python",
   "name": "python",
   "nbconvert_exporter": "python",
   "pygments_lexer": "ipython3",
   "version": "3.6.7"
  },
  "varInspector": {
   "cols": {
    "lenName": 16,
    "lenType": 16,
    "lenVar": 40
   },
   "kernels_config": {
    "python": {
     "delete_cmd_postfix": "",
     "delete_cmd_prefix": "del ",
     "library": "var_list.py",
     "varRefreshCmd": "print(var_dic_list())"
    },
    "r": {
     "delete_cmd_postfix": ") ",
     "delete_cmd_prefix": "rm(",
     "library": "var_list.r",
     "varRefreshCmd": "cat(var_dic_list()) "
    }
   },
   "types_to_exclude": [
    "module",
    "function",
    "builtin_function_or_method",
    "instance",
    "_Feature"
   ],
   "window_display": false
  }
 },
 "nbformat": 4,
 "nbformat_minor": 2
}
